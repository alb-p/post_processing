{
 "cells": [
  {
   "cell_type": "markdown",
   "metadata": {},
   "source": [
    "The debiasing function used is implemented in the `RejectOptionClassification` class.\n",
    "\n",
    "    * Statistical parity difference on the predictions of the classifier\n",
    "    * Average odds difference for the classifier\n",
    "    * Equal opportunity difference for the classifier"
   ]
  },
  {
   "cell_type": "code",
   "execution_count": 3,
   "metadata": {},
   "outputs": [
    {
     "name": "stdout",
     "output_type": "stream",
     "text": [
      "Requirement already satisfied: mlxtend in ./pp_env/lib/python3.12/site-packages (0.23.1)\n",
      "Requirement already satisfied: efficient-apriori in ./pp_env/lib/python3.12/site-packages (2.0.5)\n",
      "Requirement already satisfied: plotly in ./pp_env/lib/python3.12/site-packages (5.24.1)\n",
      "Requirement already satisfied: matplotlib in ./pp_env/lib/python3.12/site-packages (3.9.3)\n",
      "Requirement already satisfied: inline in ./pp_env/lib/python3.12/site-packages (0.0.1)\n",
      "Requirement already satisfied: seaborn in ./pp_env/lib/python3.12/site-packages (0.13.2)\n",
      "Requirement already satisfied: aif360 in ./pp_env/lib/python3.12/site-packages (0.6.1)\n",
      "Requirement already satisfied: jinja2 in ./pp_env/lib/python3.12/site-packages (3.1.4)\n",
      "Requirement already satisfied: openpyxl in ./pp_env/lib/python3.12/site-packages (3.1.5)\n",
      "Requirement already satisfied: scipy>=1.2.1 in ./pp_env/lib/python3.12/site-packages (from mlxtend) (1.14.1)\n",
      "Requirement already satisfied: numpy>=1.16.2 in ./pp_env/lib/python3.12/site-packages (from mlxtend) (2.2.0)\n",
      "Requirement already satisfied: pandas>=0.24.2 in ./pp_env/lib/python3.12/site-packages (from mlxtend) (2.2.3)\n",
      "Requirement already satisfied: scikit-learn>=1.0.2 in ./pp_env/lib/python3.12/site-packages (from mlxtend) (1.6.0)\n",
      "Requirement already satisfied: joblib>=0.13.2 in ./pp_env/lib/python3.12/site-packages (from mlxtend) (1.4.2)\n",
      "Requirement already satisfied: tenacity>=6.2.0 in ./pp_env/lib/python3.12/site-packages (from plotly) (9.0.0)\n",
      "Requirement already satisfied: packaging in ./pp_env/lib/python3.12/site-packages (from plotly) (24.2)\n",
      "Requirement already satisfied: contourpy>=1.0.1 in ./pp_env/lib/python3.12/site-packages (from matplotlib) (1.3.1)\n",
      "Requirement already satisfied: cycler>=0.10 in ./pp_env/lib/python3.12/site-packages (from matplotlib) (0.12.1)\n",
      "Requirement already satisfied: fonttools>=4.22.0 in ./pp_env/lib/python3.12/site-packages (from matplotlib) (4.55.3)\n",
      "Requirement already satisfied: kiwisolver>=1.3.1 in ./pp_env/lib/python3.12/site-packages (from matplotlib) (1.4.7)\n",
      "Requirement already satisfied: pillow>=8 in ./pp_env/lib/python3.12/site-packages (from matplotlib) (11.0.0)\n",
      "Requirement already satisfied: pyparsing>=2.3.1 in ./pp_env/lib/python3.12/site-packages (from matplotlib) (3.2.0)\n",
      "Requirement already satisfied: python-dateutil>=2.7 in ./pp_env/lib/python3.12/site-packages (from matplotlib) (2.9.0.post0)\n",
      "Requirement already satisfied: MarkupSafe>=2.0 in ./pp_env/lib/python3.12/site-packages (from jinja2) (3.0.2)\n",
      "Requirement already satisfied: et-xmlfile in ./pp_env/lib/python3.12/site-packages (from openpyxl) (2.0.0)\n",
      "Requirement already satisfied: pytz>=2020.1 in ./pp_env/lib/python3.12/site-packages (from pandas>=0.24.2->mlxtend) (2024.2)\n",
      "Requirement already satisfied: tzdata>=2022.7 in ./pp_env/lib/python3.12/site-packages (from pandas>=0.24.2->mlxtend) (2024.2)\n",
      "Requirement already satisfied: six>=1.5 in ./pp_env/lib/python3.12/site-packages (from python-dateutil>=2.7->matplotlib) (1.17.0)\n",
      "Requirement already satisfied: threadpoolctl>=3.1.0 in ./pp_env/lib/python3.12/site-packages (from scikit-learn>=1.0.2->mlxtend) (3.5.0)\n",
      "Note: you may need to restart the kernel to use updated packages.\n"
     ]
    },
    {
     "name": "stderr",
     "output_type": "stream",
     "text": [
      "WARNING:root:No module named 'tensorflow': AdversarialDebiasing will be unavailable. To install, run:\n",
      "pip install 'aif360[AdversarialDebiasing]'\n",
      "WARNING:root:No module named 'tensorflow': AdversarialDebiasing will be unavailable. To install, run:\n",
      "pip install 'aif360[AdversarialDebiasing]'\n",
      "WARNING:root:No module named 'inFairness': SenSeI and SenSR will be unavailable. To install, run:\n",
      "pip install 'aif360[inFairness]'\n"
     ]
    }
   ],
   "source": [
    "%pip install mlxtend efficient-apriori plotly matplotlib inline seaborn aif360 jinja2 openpyxl\n",
    "# Load all necessary packages\n",
    "import sys\n",
    "sys.path.append(\"../\")\n",
    "from collections import OrderedDict\n",
    "import numpy as np\n",
    "import pandas as pd\n",
    "import seaborn as sns\n",
    "\n",
    "from aif360.metrics import ClassificationMetric, BinaryLabelDatasetMetric\n",
    "from aif360.datasets import BinaryLabelDataset\n",
    "from aif360.algorithms.postprocessing.reject_option_classification import RejectOptionClassification\n",
    "\n",
    "from sklearn.preprocessing import StandardScaler\n",
    "from sklearn.metrics import accuracy_score, balanced_accuracy_score, precision_score, recall_score, f1_score, confusion_matrix, ConfusionMatrixDisplay\n",
    "from sklearn.tree import DecisionTreeClassifier\n",
    "from sklearn.linear_model import LogisticRegression\n",
    "from sklearn.ensemble import RandomForestClassifier\n",
    "from sklearn.neighbors import KNeighborsClassifier\n",
    "\n",
    "from IPython.display import Markdown, display\n",
    "import matplotlib.pyplot as plt\n",
    "from mlxtend.frequent_patterns import association_rules, fpgrowth, apriori\n",
    "from mlxtend.preprocessing import TransactionEncoder\n",
    "\n"
   ]
  },
  {
   "cell_type": "markdown",
   "metadata": {},
   "source": [
    "### Functions"
   ]
  },
  {
   "cell_type": "code",
   "execution_count": 2,
   "metadata": {},
   "outputs": [],
   "source": [
    "def load_data(file_path):\n",
    "    \"\"\"\n",
    "    Loads data from a CSV file.\n",
    "    \"\"\"\n",
    "    return pd.read_csv(file_path)"
   ]
  },
  {
   "cell_type": "code",
   "execution_count": 4,
   "metadata": {},
   "outputs": [
    {
     "name": "stdout",
     "output_type": "stream",
     "text": [
      "compas\n",
      "6\n",
      "decile_score\n",
      "1     1440\n",
      "2      941\n",
      "4      769\n",
      "3      747\n",
      "5      681\n",
      "6      641\n",
      "7      592\n",
      "8      512\n",
      "9      508\n",
      "10     383\n",
      "Name: count, dtype: int64\n"
     ]
    }
   ],
   "source": [
    "import pandas as pd\n",
    "compas = load_data('data/compas-scores-two-years.csv')\n",
    "print(\"compas\")\n",
    "print(len(compas['race'].unique()))\n",
    "print(compas['decile_score'].value_counts())\n"
   ]
  },
  {
   "cell_type": "code",
   "execution_count": 22,
   "metadata": {},
   "outputs": [],
   "source": [
    "\n",
    "# Select relevant columns\n",
    "dataset_preproc = compas[['sex', 'race', 'age', 'c_charge_degree', 'juv_fel_count', 'juv_misd_count', 'priors_count', 'is_recid', 'decile_score']].copy()\n",
    "\n",
    "def group_race(x):\n",
    "    if x == \"Caucasian\":\n",
    "        return 1.0\n",
    "    elif x == \"African-American\":\n",
    "        return 0.0\n",
    "    else:\n",
    "        return -1.0\n",
    "\n",
    "# Map 'race' values\n",
    "dataset_preproc['race'] = dataset_preproc['race'].apply(lambda x: group_race(x))\n",
    "\n",
    "# Filter rows where 'race' is valid\n",
    "dataset_preproc = dataset_preproc[dataset_preproc['race'] != -1.0]\n",
    "\n",
    "# Map other columns\n",
    "dataset_preproc['risk'] = dataset_preproc['decile_score'].apply(lambda x: 1.0 if x < 6 else 0.0)\n",
    "dataset_preproc.drop(columns=['decile_score'], inplace=True)\n",
    "dataset_preproc['c_charge_degree'] = dataset_preproc['c_charge_degree'].map({'F': 1.0, 'M': 0.0})\n",
    "dataset_preproc['sex'] = dataset_preproc['sex'].map({'Female': 0.0, 'Male': 1.0})\n"
   ]
  },
  {
   "cell_type": "code",
   "execution_count": 23,
   "metadata": {},
   "outputs": [
    {
     "data": {
      "text/html": [
       "<div>\n",
       "<style scoped>\n",
       "    .dataframe tbody tr th:only-of-type {\n",
       "        vertical-align: middle;\n",
       "    }\n",
       "\n",
       "    .dataframe tbody tr th {\n",
       "        vertical-align: top;\n",
       "    }\n",
       "\n",
       "    .dataframe thead th {\n",
       "        text-align: right;\n",
       "    }\n",
       "</style>\n",
       "<table border=\"1\" class=\"dataframe\">\n",
       "  <thead>\n",
       "    <tr style=\"text-align: right;\">\n",
       "      <th></th>\n",
       "      <th>sex</th>\n",
       "      <th>race</th>\n",
       "      <th>age</th>\n",
       "      <th>c_charge_degree</th>\n",
       "      <th>juv_fel_count</th>\n",
       "      <th>juv_misd_count</th>\n",
       "      <th>priors_count</th>\n",
       "      <th>is_recid</th>\n",
       "      <th>risk</th>\n",
       "    </tr>\n",
       "  </thead>\n",
       "  <tbody>\n",
       "    <tr>\n",
       "      <th>1</th>\n",
       "      <td>1.0</td>\n",
       "      <td>0.0</td>\n",
       "      <td>34</td>\n",
       "      <td>1.0</td>\n",
       "      <td>0</td>\n",
       "      <td>0</td>\n",
       "      <td>0</td>\n",
       "      <td>1</td>\n",
       "      <td>1.0</td>\n",
       "    </tr>\n",
       "    <tr>\n",
       "      <th>2</th>\n",
       "      <td>1.0</td>\n",
       "      <td>0.0</td>\n",
       "      <td>24</td>\n",
       "      <td>1.0</td>\n",
       "      <td>0</td>\n",
       "      <td>0</td>\n",
       "      <td>4</td>\n",
       "      <td>1</td>\n",
       "      <td>1.0</td>\n",
       "    </tr>\n",
       "    <tr>\n",
       "      <th>3</th>\n",
       "      <td>1.0</td>\n",
       "      <td>0.0</td>\n",
       "      <td>23</td>\n",
       "      <td>1.0</td>\n",
       "      <td>0</td>\n",
       "      <td>1</td>\n",
       "      <td>1</td>\n",
       "      <td>0</td>\n",
       "      <td>0.0</td>\n",
       "    </tr>\n",
       "    <tr>\n",
       "      <th>6</th>\n",
       "      <td>1.0</td>\n",
       "      <td>1.0</td>\n",
       "      <td>41</td>\n",
       "      <td>1.0</td>\n",
       "      <td>0</td>\n",
       "      <td>0</td>\n",
       "      <td>14</td>\n",
       "      <td>1</td>\n",
       "      <td>0.0</td>\n",
       "    </tr>\n",
       "    <tr>\n",
       "      <th>8</th>\n",
       "      <td>0.0</td>\n",
       "      <td>1.0</td>\n",
       "      <td>39</td>\n",
       "      <td>0.0</td>\n",
       "      <td>0</td>\n",
       "      <td>0</td>\n",
       "      <td>0</td>\n",
       "      <td>0</td>\n",
       "      <td>1.0</td>\n",
       "    </tr>\n",
       "    <tr>\n",
       "      <th>9</th>\n",
       "      <td>1.0</td>\n",
       "      <td>1.0</td>\n",
       "      <td>21</td>\n",
       "      <td>1.0</td>\n",
       "      <td>0</td>\n",
       "      <td>0</td>\n",
       "      <td>1</td>\n",
       "      <td>1</td>\n",
       "      <td>1.0</td>\n",
       "    </tr>\n",
       "    <tr>\n",
       "      <th>10</th>\n",
       "      <td>1.0</td>\n",
       "      <td>1.0</td>\n",
       "      <td>27</td>\n",
       "      <td>1.0</td>\n",
       "      <td>0</td>\n",
       "      <td>0</td>\n",
       "      <td>0</td>\n",
       "      <td>0</td>\n",
       "      <td>1.0</td>\n",
       "    </tr>\n",
       "    <tr>\n",
       "      <th>11</th>\n",
       "      <td>1.0</td>\n",
       "      <td>0.0</td>\n",
       "      <td>23</td>\n",
       "      <td>0.0</td>\n",
       "      <td>0</td>\n",
       "      <td>0</td>\n",
       "      <td>3</td>\n",
       "      <td>1</td>\n",
       "      <td>0.0</td>\n",
       "    </tr>\n",
       "    <tr>\n",
       "      <th>12</th>\n",
       "      <td>0.0</td>\n",
       "      <td>1.0</td>\n",
       "      <td>37</td>\n",
       "      <td>0.0</td>\n",
       "      <td>0</td>\n",
       "      <td>0</td>\n",
       "      <td>0</td>\n",
       "      <td>0</td>\n",
       "      <td>1.0</td>\n",
       "    </tr>\n",
       "    <tr>\n",
       "      <th>13</th>\n",
       "      <td>1.0</td>\n",
       "      <td>0.0</td>\n",
       "      <td>41</td>\n",
       "      <td>1.0</td>\n",
       "      <td>0</td>\n",
       "      <td>0</td>\n",
       "      <td>0</td>\n",
       "      <td>0</td>\n",
       "      <td>1.0</td>\n",
       "    </tr>\n",
       "  </tbody>\n",
       "</table>\n",
       "</div>"
      ],
      "text/plain": [
       "    sex  race  age  c_charge_degree  juv_fel_count  juv_misd_count  \\\n",
       "1   1.0   0.0   34              1.0              0               0   \n",
       "2   1.0   0.0   24              1.0              0               0   \n",
       "3   1.0   0.0   23              1.0              0               1   \n",
       "6   1.0   1.0   41              1.0              0               0   \n",
       "8   0.0   1.0   39              0.0              0               0   \n",
       "9   1.0   1.0   21              1.0              0               0   \n",
       "10  1.0   1.0   27              1.0              0               0   \n",
       "11  1.0   0.0   23              0.0              0               0   \n",
       "12  0.0   1.0   37              0.0              0               0   \n",
       "13  1.0   0.0   41              1.0              0               0   \n",
       "\n",
       "    priors_count  is_recid  risk  \n",
       "1              0         1   1.0  \n",
       "2              4         1   1.0  \n",
       "3              1         0   0.0  \n",
       "6             14         1   0.0  \n",
       "8              0         0   1.0  \n",
       "9              1         1   1.0  \n",
       "10             0         0   1.0  \n",
       "11             3         1   0.0  \n",
       "12             0         0   1.0  \n",
       "13             0         0   1.0  "
      ]
     },
     "execution_count": 23,
     "metadata": {},
     "output_type": "execute_result"
    }
   ],
   "source": [
    "dataset_preproc.head(10)"
   ]
  },
  {
   "cell_type": "code",
   "execution_count": 20,
   "metadata": {},
   "outputs": [
    {
     "name": "stdout",
     "output_type": "stream",
     "text": [
      "priors_count\n",
      "0     1710\n",
      "1     1166\n",
      "2      712\n",
      "3      504\n",
      "4      359\n",
      "5      299\n",
      "6      214\n",
      "7      191\n",
      "8      168\n",
      "9      136\n",
      "10     104\n",
      "11      91\n",
      "13      73\n",
      "12      70\n",
      "14      52\n",
      "15      49\n",
      "16      37\n",
      "17      34\n",
      "19      28\n",
      "18      25\n",
      "21      22\n",
      "22      20\n",
      "20      17\n",
      "23      15\n",
      "24      10\n",
      "25       8\n",
      "28       7\n",
      "27       7\n",
      "26       6\n",
      "29       5\n",
      "33       3\n",
      "38       2\n",
      "30       2\n",
      "36       1\n",
      "37       1\n",
      "35       1\n",
      "31       1\n",
      "Name: count, dtype: int64\n"
     ]
    }
   ],
   "source": [
    "print(dataset_preproc['priors_count'].value_counts())"
   ]
  },
  {
   "cell_type": "code",
   "execution_count": null,
   "metadata": {},
   "outputs": [],
   "source": [
    "def map_priors_count(x):\n",
    "    if x == 0:\n",
    "        return 'No Priors'\n",
    "    elif 1 <= x <= 3:\n",
    "        return 'Few Priors'\n",
    "    else:\n",
    "        return 'Many Priors'\n",
    "\n",
    "# Apply the function to the 'priors_count' column\n",
    "dataset_preproc['priors_count_class'] = dataset_preproc['priors_count'].apply(map_priors_count)"
   ]
  },
  {
   "cell_type": "code",
   "execution_count": 21,
   "metadata": {},
   "outputs": [
    {
     "name": "stdout",
     "output_type": "stream",
     "text": [
      "decile_score\n",
      "1     1079\n",
      "2      754\n",
      "4      670\n",
      "3      619\n",
      "5      606\n",
      "6      578\n",
      "7      543\n",
      "9      478\n",
      "8      473\n",
      "10     350\n",
      "Name: count, dtype: int64\n"
     ]
    }
   ],
   "source": [
    "print(dataset_preproc['decile_score'].value_counts())"
   ]
  },
  {
   "cell_type": "code",
   "execution_count": 24,
   "metadata": {},
   "outputs": [],
   "source": [
    "# https://developers.google.com/machine-learning/crash-course/classification/accuracy-precision-recall\n",
    "\n",
    "def compute_cl_metrics(dataset_true, dataset_pred,\n",
    "                    disp = True):\n",
    "    metrics = OrderedDict()\n",
    "    metrics[\"Accuracy\"] = accuracy_score(dataset_true.labels, dataset_pred.labels)\n",
    "    metrics[\"Recall\"] = recall_score(dataset_true.labels, dataset_pred.labels)\n",
    "    metrics[\"Precision\"] = precision_score(dataset_true.labels, dataset_pred.labels)\n",
    "    metrics[\"Balanced accuracy\"] = balanced_accuracy_score(dataset_true.labels, dataset_pred.labels)  \n",
    "    metrics[\"F1\"] = f1_score(dataset_true.labels, dataset_pred.labels)\n",
    "    if disp:\n",
    "        for k in metrics:\n",
    "            print(\"%s = %.4f\" % (k, metrics[k]))\n",
    "    \n",
    "    return metrics"
   ]
  },
  {
   "cell_type": "code",
   "execution_count": 25,
   "metadata": {},
   "outputs": [],
   "source": [
    "def compute_fn_metrics(dataset_true, dataset_pred, \n",
    "                    unprivileged_groups, privileged_groups,\n",
    "                    disp = True):\n",
    "    classified_metric_pred = ClassificationMetric(dataset_true,\n",
    "                                                 dataset_pred, \n",
    "                                                 unprivileged_groups=unprivileged_groups,\n",
    "                                                 privileged_groups=privileged_groups)\n",
    "    metrics = OrderedDict()\n",
    "    metrics[\"Statistical parity difference\"] = classified_metric_pred.statistical_parity_difference()\n",
    "    # metrics[\"Disparate impact\"] = classified_metric_pred.disparate_impact()\n",
    "    metrics[\"Average odds difference\"] = classified_metric_pred.average_odds_difference()\n",
    "    metrics[\"Equal opportunity difference\"] = classified_metric_pred.equal_opportunity_difference()\n",
    "\n",
    "    if disp:\n",
    "        for k in metrics:\n",
    "            print(\"%s = %.4f\" % (k, metrics[k]))\n",
    "    \n",
    "    return metrics"
   ]
  },
  {
   "cell_type": "code",
   "execution_count": 26,
   "metadata": {},
   "outputs": [],
   "source": [
    "def plot_metrics(metrics_bef, metrics_aft): \n",
    "    df_metrics = pd.DataFrame({\n",
    "        'Metric': list(metrics_bef.keys()),\n",
    "        'Before': list(metrics_bef.values()),\n",
    "        'After': list(metrics_aft.values())\n",
    "    })\n",
    "\n",
    "    df_metrics_melted = df_metrics.melt(id_vars='Metric', var_name='Stage', value_name='Value')\n",
    "    \n",
    "    plt.figure(figsize=(10, 6))\n",
    "    sns.lineplot(data=df_metrics_melted, x='Stage', y='Value', hue='Metric', marker='o')\n",
    "    # print a line at y = 0 in red\n",
    "    plt.axhline(1, color='red', linestyle='--')\n",
    "\n",
    "\n",
    "    plt.ylabel('Metric Value')\n",
    "    plt.title('Comparison of Metrics Before and After Applying ROC')\n",
    "    plt.legend(title='Metric')\n",
    "    plt.grid(True)\n",
    "    plt.show()"
   ]
  },
  {
   "cell_type": "code",
   "execution_count": 27,
   "metadata": {},
   "outputs": [],
   "source": [
    "def plot_fn_metrics(metrics_bef, metrics_aft, metric_name): \n",
    "    df_metrics = pd.DataFrame({\n",
    "        'Metric': list(metrics_bef.keys()),\n",
    "        'Before': list(metrics_bef.values()),\n",
    "        'After': list(metrics_aft.values())\n",
    "    })\n",
    "\n",
    "    df_metrics_melted = df_metrics.melt(id_vars='Metric', var_name='Stage', value_name='Value')\n",
    "    \n",
    "    plt.figure(figsize=(10, 6))\n",
    "    sns.lineplot(data=df_metrics_melted, x='Stage', y='Value', hue='Metric', marker='o')\n",
    "    # print a line at y = 0 in red\n",
    "    plt.axhline(0, color='red', linestyle='--')\n",
    "    plt.ylabel('Metric Value')\n",
    "    #create the string for the title Comparison of Metrics Before and After Applying ROC ( +metric_name+ )'\n",
    "\n",
    "    plt.title(('Comparison of Metrics Before and After Applying ROC ('+metric_name+')'))\n",
    "    plt.legend(title='Metric')\n",
    "    plt.grid(True)\n",
    "    plt.show()"
   ]
  },
  {
   "cell_type": "code",
   "execution_count": 28,
   "metadata": {},
   "outputs": [],
   "source": [
    "def conf_matrix(dataset_true, dataset_pred):\n",
    "    cm =confusion_matrix(dataset_true.labels, dataset_pred.labels)\n",
    "    plt.figure(figsize=(3, 3))\n",
    "    \n",
    "    ConfusionMatrixDisplay(cm).plot()\n",
    "    return cm"
   ]
  },
  {
   "cell_type": "code",
   "execution_count": 29,
   "metadata": {},
   "outputs": [],
   "source": [
    "def above_50k_graph(dataset):\n",
    "    df_test = dataset.convert_to_dataframe()[0]\n",
    "    df_above_50k = df_test[df_test['income'] == 1]\n",
    "    df_above_50k\n",
    "\n",
    "    # Count the number of male and female workers with income greater than 50K\n",
    "    gender_counts = df_above_50k['sex'].value_counts()\n",
    "\n",
    "    females_above_50k_count = gender_counts.get(0, 0) \n",
    "    total_count_above_50k = gender_counts.sum()\n",
    "    print(f\"Percentage of females earning over 50K: {females_above_50k_count/total_count_above_50k*100:.2f}%\")\n",
    "    print(f\"Number of male workers earning over 50K: { gender_counts.get(1, 0)}\")\n",
    "    print(f\"Total number of workers earning over 50K: {total_count_above_50k}\")\n",
    "\n",
    "\n",
    "    # Plotting the graph, the X axis gender should only contain 0 for female, 1 for male\n",
    "    plt.figure(figsize=(5, 5))\n",
    "    plt.bar(gender_counts.index, gender_counts.values, color=['lightblue', 'moccasin'])\n",
    "    plt.xlabel('Gender')\n",
    "    plt.xticks([0, 1], labels=['Female', 'Male'])\n",
    "    plt.ylabel('Number of Workers')\n",
    "    plt.title('Number of Male and Female Workers with Salary > 50K')\n",
    "    plt.show()"
   ]
  },
  {
   "cell_type": "code",
   "execution_count": 30,
   "metadata": {},
   "outputs": [],
   "source": [
    "def above_50k_graph_df(df):\n",
    "    df_above_50k = df[df['income'] == 1]\n",
    "\n",
    "    # Count the number of male and female workers with income greater than 50K\n",
    "    gender_counts = df_above_50k['sex'].value_counts()\n",
    "\n",
    "    females_above_50k_count = gender_counts.get(0, 0) \n",
    "    total_count_above_50k = gender_counts.sum()\n",
    "    print(f\"Percentage of females earning over 50K: {females_above_50k_count/total_count_above_50k*100:.2f}%\")\n",
    "    print(f\"Number of male workers earning over 50K: { gender_counts.get(1, 0)}\")\n",
    "    print(f\"Total number of workers earning over 50K: {total_count_above_50k}\")\n",
    "\n",
    "    # Plotting the graph, the X axis gender should only contain 0 for female, 1 for male\n",
    "    plt.figure(figsize=(5, 5))\n",
    "    plt.bar(gender_counts.index, gender_counts.values, color=['lightblue', 'moccasin'])\n",
    "    plt.xlabel('Gender')\n",
    "    plt.xticks([0, 1], labels=['Female', 'Male'])\n",
    "    plt.ylabel('Number of Workers')\n",
    "    plt.title('Number of Male and Female Workers with Salary > 50K')\n",
    "    plt.show()"
   ]
  },
  {
   "cell_type": "code",
   "execution_count": 31,
   "metadata": {},
   "outputs": [],
   "source": [
    "def group_edu(x):\n",
    "    if x <= 5:\n",
    "        return '<6'\n",
    "    elif x >= 13:\n",
    "        return '>12'\n",
    "    else:\n",
    "        return x"
   ]
  },
  {
   "cell_type": "markdown",
   "metadata": {},
   "source": [
    "### Load dataset and specify options"
   ]
  },
  {
   "cell_type": "code",
   "execution_count": 32,
   "metadata": {},
   "outputs": [],
   "source": [
    "# define the ML model\n",
    "# Decision Tree, Logistic Regression, Random Forest, KNN\n",
    "model = \"Logistic Regression\" \n",
    "\n",
    "# (un)privileged groups are defined based on the dataset\n",
    "# privileged_groups = [{'sex': 1}]\n",
    "# unprivileged_groups = [{'sex': 0}]\n",
    "\n",
    "\n",
    "target_variable = 'income'\n",
    "sensible_attribute = 'sex'\n",
    "\n",
    "# Associaction rules parameters\n",
    "user_min_support = 0.2\n",
    "user_min_confidence = 0.8\n",
    "        \n",
    "# The debiasing function RejectOptionClassification accepts the following metrics:\n",
    "    # Statistical parity difference on the predictions of the classifier\n",
    "    # Average odds difference for the classifier\n",
    "    # Equal opportunity difference for the classifier\n",
    "metric_name = \"Statistical parity difference\"\n",
    "        \n",
    "#random seed for calibrated equal odds prediction\n",
    "np.random.seed(1)\n",
    "\n",
    "# Verify metric name\n",
    "allowed_metrics = [\"Statistical parity difference\",\n",
    "                   \"Average odds difference\",\n",
    "                   \"Equal opportunity difference\"]\n",
    "if metric_name not in allowed_metrics:\n",
    "    raise ValueError(\"Metric name should be one of allowed metrics\")"
   ]
  },
  {
   "cell_type": "markdown",
   "metadata": {},
   "source": [
    "### Clean csv file"
   ]
  },
  {
   "cell_type": "code",
   "execution_count": 33,
   "metadata": {},
   "outputs": [
    {
     "name": "stdout",
     "output_type": "stream",
     "text": [
      "shape before drop: (32561, 15)\n",
      "shape after drop: (30162, 15)\n"
     ]
    }
   ],
   "source": [
    "# https://www.kaggle.com/datasets/uciml/adult-census-income/data\n",
    "dataset_orig = pd.read_csv('data/adult.csv', header = 0)\n",
    "print('shape before drop:',dataset_orig.shape)\n",
    "dataset_orig.replace('?', np.nan, inplace=True)\n",
    "dataset_orig.dropna(inplace=True)\n",
    "# to_drop = [\"workclass\", \"fnlwgt\", \"education\", \"capital-gain\", \"capital-loss\", \"hours-per-week\"]\n",
    "\n",
    "to_drop = [\"fnlwgt\", \"education\", \"relationship\", \"workclass\", \"occupation\"]\n",
    "dataset_orig_clean = dataset_orig.dropna()\n",
    "dataset_orig_clean.drop(to_drop, axis=1, inplace=True)\n",
    "\n",
    "print('shape after drop:',dataset_orig.shape)\n"
   ]
  },
  {
   "cell_type": "code",
   "execution_count": 34,
   "metadata": {},
   "outputs": [
    {
     "data": {
      "text/html": [
       "<div>\n",
       "<style scoped>\n",
       "    .dataframe tbody tr th:only-of-type {\n",
       "        vertical-align: middle;\n",
       "    }\n",
       "\n",
       "    .dataframe tbody tr th {\n",
       "        vertical-align: top;\n",
       "    }\n",
       "\n",
       "    .dataframe thead th {\n",
       "        text-align: right;\n",
       "    }\n",
       "</style>\n",
       "<table border=\"1\" class=\"dataframe\">\n",
       "  <thead>\n",
       "    <tr style=\"text-align: right;\">\n",
       "      <th></th>\n",
       "      <th>age</th>\n",
       "      <th>workclass</th>\n",
       "      <th>fnlwgt</th>\n",
       "      <th>education</th>\n",
       "      <th>education.num</th>\n",
       "      <th>marital.status</th>\n",
       "      <th>occupation</th>\n",
       "      <th>relationship</th>\n",
       "      <th>race</th>\n",
       "      <th>sex</th>\n",
       "      <th>capital.gain</th>\n",
       "      <th>capital.loss</th>\n",
       "      <th>hours.per.week</th>\n",
       "      <th>native.country</th>\n",
       "      <th>income</th>\n",
       "    </tr>\n",
       "  </thead>\n",
       "  <tbody>\n",
       "    <tr>\n",
       "      <th>1</th>\n",
       "      <td>82</td>\n",
       "      <td>Private</td>\n",
       "      <td>132870</td>\n",
       "      <td>HS-grad</td>\n",
       "      <td>9</td>\n",
       "      <td>Widowed</td>\n",
       "      <td>Exec-managerial</td>\n",
       "      <td>Not-in-family</td>\n",
       "      <td>White</td>\n",
       "      <td>Female</td>\n",
       "      <td>0</td>\n",
       "      <td>4356</td>\n",
       "      <td>18</td>\n",
       "      <td>United-States</td>\n",
       "      <td>&lt;=50K</td>\n",
       "    </tr>\n",
       "    <tr>\n",
       "      <th>3</th>\n",
       "      <td>54</td>\n",
       "      <td>Private</td>\n",
       "      <td>140359</td>\n",
       "      <td>7th-8th</td>\n",
       "      <td>4</td>\n",
       "      <td>Divorced</td>\n",
       "      <td>Machine-op-inspct</td>\n",
       "      <td>Unmarried</td>\n",
       "      <td>White</td>\n",
       "      <td>Female</td>\n",
       "      <td>0</td>\n",
       "      <td>3900</td>\n",
       "      <td>40</td>\n",
       "      <td>United-States</td>\n",
       "      <td>&lt;=50K</td>\n",
       "    </tr>\n",
       "    <tr>\n",
       "      <th>4</th>\n",
       "      <td>41</td>\n",
       "      <td>Private</td>\n",
       "      <td>264663</td>\n",
       "      <td>Some-college</td>\n",
       "      <td>10</td>\n",
       "      <td>Separated</td>\n",
       "      <td>Prof-specialty</td>\n",
       "      <td>Own-child</td>\n",
       "      <td>White</td>\n",
       "      <td>Female</td>\n",
       "      <td>0</td>\n",
       "      <td>3900</td>\n",
       "      <td>40</td>\n",
       "      <td>United-States</td>\n",
       "      <td>&lt;=50K</td>\n",
       "    </tr>\n",
       "    <tr>\n",
       "      <th>5</th>\n",
       "      <td>34</td>\n",
       "      <td>Private</td>\n",
       "      <td>216864</td>\n",
       "      <td>HS-grad</td>\n",
       "      <td>9</td>\n",
       "      <td>Divorced</td>\n",
       "      <td>Other-service</td>\n",
       "      <td>Unmarried</td>\n",
       "      <td>White</td>\n",
       "      <td>Female</td>\n",
       "      <td>0</td>\n",
       "      <td>3770</td>\n",
       "      <td>45</td>\n",
       "      <td>United-States</td>\n",
       "      <td>&lt;=50K</td>\n",
       "    </tr>\n",
       "    <tr>\n",
       "      <th>6</th>\n",
       "      <td>38</td>\n",
       "      <td>Private</td>\n",
       "      <td>150601</td>\n",
       "      <td>10th</td>\n",
       "      <td>6</td>\n",
       "      <td>Separated</td>\n",
       "      <td>Adm-clerical</td>\n",
       "      <td>Unmarried</td>\n",
       "      <td>White</td>\n",
       "      <td>Male</td>\n",
       "      <td>0</td>\n",
       "      <td>3770</td>\n",
       "      <td>40</td>\n",
       "      <td>United-States</td>\n",
       "      <td>&lt;=50K</td>\n",
       "    </tr>\n",
       "    <tr>\n",
       "      <th>...</th>\n",
       "      <td>...</td>\n",
       "      <td>...</td>\n",
       "      <td>...</td>\n",
       "      <td>...</td>\n",
       "      <td>...</td>\n",
       "      <td>...</td>\n",
       "      <td>...</td>\n",
       "      <td>...</td>\n",
       "      <td>...</td>\n",
       "      <td>...</td>\n",
       "      <td>...</td>\n",
       "      <td>...</td>\n",
       "      <td>...</td>\n",
       "      <td>...</td>\n",
       "      <td>...</td>\n",
       "    </tr>\n",
       "    <tr>\n",
       "      <th>32556</th>\n",
       "      <td>22</td>\n",
       "      <td>Private</td>\n",
       "      <td>310152</td>\n",
       "      <td>Some-college</td>\n",
       "      <td>10</td>\n",
       "      <td>Never-married</td>\n",
       "      <td>Protective-serv</td>\n",
       "      <td>Not-in-family</td>\n",
       "      <td>White</td>\n",
       "      <td>Male</td>\n",
       "      <td>0</td>\n",
       "      <td>0</td>\n",
       "      <td>40</td>\n",
       "      <td>United-States</td>\n",
       "      <td>&lt;=50K</td>\n",
       "    </tr>\n",
       "    <tr>\n",
       "      <th>32557</th>\n",
       "      <td>27</td>\n",
       "      <td>Private</td>\n",
       "      <td>257302</td>\n",
       "      <td>Assoc-acdm</td>\n",
       "      <td>12</td>\n",
       "      <td>Married-civ-spouse</td>\n",
       "      <td>Tech-support</td>\n",
       "      <td>Wife</td>\n",
       "      <td>White</td>\n",
       "      <td>Female</td>\n",
       "      <td>0</td>\n",
       "      <td>0</td>\n",
       "      <td>38</td>\n",
       "      <td>United-States</td>\n",
       "      <td>&lt;=50K</td>\n",
       "    </tr>\n",
       "    <tr>\n",
       "      <th>32558</th>\n",
       "      <td>40</td>\n",
       "      <td>Private</td>\n",
       "      <td>154374</td>\n",
       "      <td>HS-grad</td>\n",
       "      <td>9</td>\n",
       "      <td>Married-civ-spouse</td>\n",
       "      <td>Machine-op-inspct</td>\n",
       "      <td>Husband</td>\n",
       "      <td>White</td>\n",
       "      <td>Male</td>\n",
       "      <td>0</td>\n",
       "      <td>0</td>\n",
       "      <td>40</td>\n",
       "      <td>United-States</td>\n",
       "      <td>&gt;50K</td>\n",
       "    </tr>\n",
       "    <tr>\n",
       "      <th>32559</th>\n",
       "      <td>58</td>\n",
       "      <td>Private</td>\n",
       "      <td>151910</td>\n",
       "      <td>HS-grad</td>\n",
       "      <td>9</td>\n",
       "      <td>Widowed</td>\n",
       "      <td>Adm-clerical</td>\n",
       "      <td>Unmarried</td>\n",
       "      <td>White</td>\n",
       "      <td>Female</td>\n",
       "      <td>0</td>\n",
       "      <td>0</td>\n",
       "      <td>40</td>\n",
       "      <td>United-States</td>\n",
       "      <td>&lt;=50K</td>\n",
       "    </tr>\n",
       "    <tr>\n",
       "      <th>32560</th>\n",
       "      <td>22</td>\n",
       "      <td>Private</td>\n",
       "      <td>201490</td>\n",
       "      <td>HS-grad</td>\n",
       "      <td>9</td>\n",
       "      <td>Never-married</td>\n",
       "      <td>Adm-clerical</td>\n",
       "      <td>Own-child</td>\n",
       "      <td>White</td>\n",
       "      <td>Male</td>\n",
       "      <td>0</td>\n",
       "      <td>0</td>\n",
       "      <td>20</td>\n",
       "      <td>United-States</td>\n",
       "      <td>&lt;=50K</td>\n",
       "    </tr>\n",
       "  </tbody>\n",
       "</table>\n",
       "<p>30162 rows × 15 columns</p>\n",
       "</div>"
      ],
      "text/plain": [
       "       age workclass  fnlwgt     education  education.num      marital.status  \\\n",
       "1       82   Private  132870       HS-grad              9             Widowed   \n",
       "3       54   Private  140359       7th-8th              4            Divorced   \n",
       "4       41   Private  264663  Some-college             10           Separated   \n",
       "5       34   Private  216864       HS-grad              9            Divorced   \n",
       "6       38   Private  150601          10th              6           Separated   \n",
       "...    ...       ...     ...           ...            ...                 ...   \n",
       "32556   22   Private  310152  Some-college             10       Never-married   \n",
       "32557   27   Private  257302    Assoc-acdm             12  Married-civ-spouse   \n",
       "32558   40   Private  154374       HS-grad              9  Married-civ-spouse   \n",
       "32559   58   Private  151910       HS-grad              9             Widowed   \n",
       "32560   22   Private  201490       HS-grad              9       Never-married   \n",
       "\n",
       "              occupation   relationship   race     sex  capital.gain  \\\n",
       "1        Exec-managerial  Not-in-family  White  Female             0   \n",
       "3      Machine-op-inspct      Unmarried  White  Female             0   \n",
       "4         Prof-specialty      Own-child  White  Female             0   \n",
       "5          Other-service      Unmarried  White  Female             0   \n",
       "6           Adm-clerical      Unmarried  White    Male             0   \n",
       "...                  ...            ...    ...     ...           ...   \n",
       "32556    Protective-serv  Not-in-family  White    Male             0   \n",
       "32557       Tech-support           Wife  White  Female             0   \n",
       "32558  Machine-op-inspct        Husband  White    Male             0   \n",
       "32559       Adm-clerical      Unmarried  White  Female             0   \n",
       "32560       Adm-clerical      Own-child  White    Male             0   \n",
       "\n",
       "       capital.loss  hours.per.week native.country income  \n",
       "1              4356              18  United-States  <=50K  \n",
       "3              3900              40  United-States  <=50K  \n",
       "4              3900              40  United-States  <=50K  \n",
       "5              3770              45  United-States  <=50K  \n",
       "6              3770              40  United-States  <=50K  \n",
       "...             ...             ...            ...    ...  \n",
       "32556             0              40  United-States  <=50K  \n",
       "32557             0              38  United-States  <=50K  \n",
       "32558             0              40  United-States   >50K  \n",
       "32559             0              40  United-States  <=50K  \n",
       "32560             0              20  United-States  <=50K  \n",
       "\n",
       "[30162 rows x 15 columns]"
      ]
     },
     "execution_count": 34,
     "metadata": {},
     "output_type": "execute_result"
    }
   ],
   "source": [
    "dataset_orig"
   ]
  },
  {
   "cell_type": "code",
   "execution_count": 35,
   "metadata": {},
   "outputs": [
    {
     "data": {
      "text/plain": [
       "array(['United-States', 'Mexico', 'Greece', 'Vietnam', 'China', 'Taiwan',\n",
       "       'India', 'Philippines', 'Trinadad&Tobago', 'Canada', 'South',\n",
       "       'Holand-Netherlands', 'Puerto-Rico', 'Poland', 'Iran', 'England',\n",
       "       'Germany', 'Italy', 'Japan', 'Hong', 'Honduras', 'Cuba', 'Ireland',\n",
       "       'Cambodia', 'Peru', 'Nicaragua', 'Dominican-Republic', 'Haiti',\n",
       "       'Hungary', 'Columbia', 'Guatemala', 'El-Salvador', 'Jamaica',\n",
       "       'Ecuador', 'France', 'Yugoslavia', 'Portugal', 'Laos', 'Thailand',\n",
       "       'Outlying-US(Guam-USVI-etc)', 'Scotland'], dtype=object)"
      ]
     },
     "execution_count": 35,
     "metadata": {},
     "output_type": "execute_result"
    }
   ],
   "source": [
    "# List all the native.country values\n",
    "dataset_orig['native.country'].unique()"
   ]
  },
  {
   "cell_type": "code",
   "execution_count": 36,
   "metadata": {},
   "outputs": [],
   "source": [
    "# Categorical features are converted to numerical\n",
    "dataset_orig_clean.loc[:, 'income'] = dataset_orig_clean['income'].map({\n",
    "    '<=50K': 0,\n",
    "    '>50K': 1\n",
    "})\n",
    "dataset_orig_clean['income'] = dataset_orig_clean['income'].astype(int)\n",
    "\n",
    "\n",
    "dataset_orig_clean.loc[:, 'sex'] = dataset_orig_clean['sex'].map({\n",
    "    'Female': 0,\n",
    "    'Male': 1\n",
    "})\n",
    "dataset_orig_clean['sex'] = dataset_orig_clean['sex'].astype(int)\n",
    "\n",
    "# 1 if married, 0 otherwise\n",
    "dataset_orig_clean['marital.status'] = dataset_orig_clean['marital.status'].map({\n",
    "    'Never-married': 0,\n",
    "    'Divorced': 0,\n",
    "    'Separated': 0,\n",
    "    'Widowed': 0,\n",
    "    'Married-civ-spouse': 1,\n",
    "    'Married-spouse-absent': 1,\n",
    "    'Married-AF-spouse': 1\n",
    "})\n",
    "dataset_orig_clean['marital.status'] = dataset_orig_clean['marital.status'].astype(int)\n",
    "\n",
    "\n",
    "dataset_orig_clean['race'] = dataset_orig_clean['race'].apply(lambda x: 1 if x == 'White' else 0)\n",
    "dataset_orig_clean['race'] = dataset_orig_clean['race'].astype(int)\n",
    "\n",
    "# United-States is 0 all the other countries are 1\n",
    "dataset_orig_clean['native.country'] = dataset_orig_clean['native.country'].apply(lambda x: 1 if x == 'United-States' else 0)\n",
    "dataset_orig_clean['native.country'] = dataset_orig_clean['native.country'].astype(int)\n",
    "\n",
    "\n"
   ]
  },
  {
   "cell_type": "code",
   "execution_count": 37,
   "metadata": {},
   "outputs": [
    {
     "data": {
      "text/html": [
       "<div>\n",
       "<style scoped>\n",
       "    .dataframe tbody tr th:only-of-type {\n",
       "        vertical-align: middle;\n",
       "    }\n",
       "\n",
       "    .dataframe tbody tr th {\n",
       "        vertical-align: top;\n",
       "    }\n",
       "\n",
       "    .dataframe thead th {\n",
       "        text-align: right;\n",
       "    }\n",
       "</style>\n",
       "<table border=\"1\" class=\"dataframe\">\n",
       "  <thead>\n",
       "    <tr style=\"text-align: right;\">\n",
       "      <th></th>\n",
       "      <th>age</th>\n",
       "      <th>education.num</th>\n",
       "      <th>marital.status</th>\n",
       "      <th>race</th>\n",
       "      <th>sex</th>\n",
       "      <th>capital.gain</th>\n",
       "      <th>capital.loss</th>\n",
       "      <th>hours.per.week</th>\n",
       "      <th>native.country</th>\n",
       "      <th>income</th>\n",
       "    </tr>\n",
       "  </thead>\n",
       "  <tbody>\n",
       "    <tr>\n",
       "      <th>1</th>\n",
       "      <td>82</td>\n",
       "      <td>9</td>\n",
       "      <td>0</td>\n",
       "      <td>1</td>\n",
       "      <td>0</td>\n",
       "      <td>0</td>\n",
       "      <td>4356</td>\n",
       "      <td>18</td>\n",
       "      <td>1</td>\n",
       "      <td>0</td>\n",
       "    </tr>\n",
       "    <tr>\n",
       "      <th>3</th>\n",
       "      <td>54</td>\n",
       "      <td>4</td>\n",
       "      <td>0</td>\n",
       "      <td>1</td>\n",
       "      <td>0</td>\n",
       "      <td>0</td>\n",
       "      <td>3900</td>\n",
       "      <td>40</td>\n",
       "      <td>1</td>\n",
       "      <td>0</td>\n",
       "    </tr>\n",
       "    <tr>\n",
       "      <th>4</th>\n",
       "      <td>41</td>\n",
       "      <td>10</td>\n",
       "      <td>0</td>\n",
       "      <td>1</td>\n",
       "      <td>0</td>\n",
       "      <td>0</td>\n",
       "      <td>3900</td>\n",
       "      <td>40</td>\n",
       "      <td>1</td>\n",
       "      <td>0</td>\n",
       "    </tr>\n",
       "    <tr>\n",
       "      <th>5</th>\n",
       "      <td>34</td>\n",
       "      <td>9</td>\n",
       "      <td>0</td>\n",
       "      <td>1</td>\n",
       "      <td>0</td>\n",
       "      <td>0</td>\n",
       "      <td>3770</td>\n",
       "      <td>45</td>\n",
       "      <td>1</td>\n",
       "      <td>0</td>\n",
       "    </tr>\n",
       "    <tr>\n",
       "      <th>6</th>\n",
       "      <td>38</td>\n",
       "      <td>6</td>\n",
       "      <td>0</td>\n",
       "      <td>1</td>\n",
       "      <td>1</td>\n",
       "      <td>0</td>\n",
       "      <td>3770</td>\n",
       "      <td>40</td>\n",
       "      <td>1</td>\n",
       "      <td>0</td>\n",
       "    </tr>\n",
       "    <tr>\n",
       "      <th>...</th>\n",
       "      <td>...</td>\n",
       "      <td>...</td>\n",
       "      <td>...</td>\n",
       "      <td>...</td>\n",
       "      <td>...</td>\n",
       "      <td>...</td>\n",
       "      <td>...</td>\n",
       "      <td>...</td>\n",
       "      <td>...</td>\n",
       "      <td>...</td>\n",
       "    </tr>\n",
       "    <tr>\n",
       "      <th>32556</th>\n",
       "      <td>22</td>\n",
       "      <td>10</td>\n",
       "      <td>0</td>\n",
       "      <td>1</td>\n",
       "      <td>1</td>\n",
       "      <td>0</td>\n",
       "      <td>0</td>\n",
       "      <td>40</td>\n",
       "      <td>1</td>\n",
       "      <td>0</td>\n",
       "    </tr>\n",
       "    <tr>\n",
       "      <th>32557</th>\n",
       "      <td>27</td>\n",
       "      <td>12</td>\n",
       "      <td>1</td>\n",
       "      <td>1</td>\n",
       "      <td>0</td>\n",
       "      <td>0</td>\n",
       "      <td>0</td>\n",
       "      <td>38</td>\n",
       "      <td>1</td>\n",
       "      <td>0</td>\n",
       "    </tr>\n",
       "    <tr>\n",
       "      <th>32558</th>\n",
       "      <td>40</td>\n",
       "      <td>9</td>\n",
       "      <td>1</td>\n",
       "      <td>1</td>\n",
       "      <td>1</td>\n",
       "      <td>0</td>\n",
       "      <td>0</td>\n",
       "      <td>40</td>\n",
       "      <td>1</td>\n",
       "      <td>1</td>\n",
       "    </tr>\n",
       "    <tr>\n",
       "      <th>32559</th>\n",
       "      <td>58</td>\n",
       "      <td>9</td>\n",
       "      <td>0</td>\n",
       "      <td>1</td>\n",
       "      <td>0</td>\n",
       "      <td>0</td>\n",
       "      <td>0</td>\n",
       "      <td>40</td>\n",
       "      <td>1</td>\n",
       "      <td>0</td>\n",
       "    </tr>\n",
       "    <tr>\n",
       "      <th>32560</th>\n",
       "      <td>22</td>\n",
       "      <td>9</td>\n",
       "      <td>0</td>\n",
       "      <td>1</td>\n",
       "      <td>1</td>\n",
       "      <td>0</td>\n",
       "      <td>0</td>\n",
       "      <td>20</td>\n",
       "      <td>1</td>\n",
       "      <td>0</td>\n",
       "    </tr>\n",
       "  </tbody>\n",
       "</table>\n",
       "<p>30162 rows × 10 columns</p>\n",
       "</div>"
      ],
      "text/plain": [
       "       age  education.num  marital.status  race  sex  capital.gain  \\\n",
       "1       82              9               0     1    0             0   \n",
       "3       54              4               0     1    0             0   \n",
       "4       41             10               0     1    0             0   \n",
       "5       34              9               0     1    0             0   \n",
       "6       38              6               0     1    1             0   \n",
       "...    ...            ...             ...   ...  ...           ...   \n",
       "32556   22             10               0     1    1             0   \n",
       "32557   27             12               1     1    0             0   \n",
       "32558   40              9               1     1    1             0   \n",
       "32559   58              9               0     1    0             0   \n",
       "32560   22              9               0     1    1             0   \n",
       "\n",
       "       capital.loss  hours.per.week  native.country  income  \n",
       "1              4356              18               1       0  \n",
       "3              3900              40               1       0  \n",
       "4              3900              40               1       0  \n",
       "5              3770              45               1       0  \n",
       "6              3770              40               1       0  \n",
       "...             ...             ...             ...     ...  \n",
       "32556             0              40               1       0  \n",
       "32557             0              38               1       0  \n",
       "32558             0              40               1       1  \n",
       "32559             0              40               1       0  \n",
       "32560             0              20               1       0  \n",
       "\n",
       "[30162 rows x 10 columns]"
      ]
     },
     "execution_count": 37,
     "metadata": {},
     "output_type": "execute_result"
    }
   ],
   "source": [
    "dataset_orig_clean"
   ]
  },
  {
   "cell_type": "markdown",
   "metadata": {},
   "source": [
    "### Dataset visual"
   ]
  },
  {
   "cell_type": "code",
   "execution_count": 38,
   "metadata": {},
   "outputs": [
    {
     "name": "stdout",
     "output_type": "stream",
     "text": [
      "income\n",
      "0    22654\n",
      "1     7508\n",
      "Name: count, dtype: int64\n"
     ]
    },
    {
     "data": {
      "text/plain": [
       "<Figure size 5000x5000 with 0 Axes>"
      ]
     },
     "metadata": {},
     "output_type": "display_data"
    },
    {
     "data": {
      "image/png": "[encoded data removed]",
      "text/plain": [
       "<Figure size 640x480 with 12 Axes>"
      ]
     },
     "metadata": {},
     "output_type": "display_data"
    }
   ],
   "source": [
    "# what does the data look like now?\n",
    "plt.figure(figsize=(50,50))\n",
    "\n",
    "print(dataset_orig_clean['income'].value_counts())\n",
    "\n",
    "# Plot the histogram of the dataset\n",
    "dataset_orig_clean.hist()\n",
    "plt.tight_layout()\n"
   ]
  },
  {
   "cell_type": "code",
   "execution_count": 39,
   "metadata": {},
   "outputs": [
    {
     "data": {
      "image/png": "[encoded data removed]",
      "text/plain": [
       "<Figure size 600x600 with 1 Axes>"
      ]
     },
     "metadata": {},
     "output_type": "display_data"
    }
   ],
   "source": [
    "# Plot the graph using seaborn\n",
    "plt.figure(figsize=(6,6))\n",
    "ax = sns.countplot(data=dataset_orig_clean, x='sex', hue='sex', palette='rocket', legend=False)\n",
    "plt.xlabel('Gender')\n",
    "plt.ylabel('Number of Individuals')\n",
    "plt.title('Female-Male distribution in the dataset')\n",
    "plt.xticks([0, 1], labels=['Female', 'Male'], rotation=0)\n",
    "\n",
    "# Add the exact number of bars on top of each bar\n",
    "for p in ax.patches:\n",
    "    ax.annotate(f'{int(p.get_height())}', (p.get_x() + p.get_width() / 2., p.get_height()), \n",
    "                ha='center', va='center', xytext=(0, 10), textcoords='offset points')\n",
    "\n",
    "plt.show()"
   ]
  },
  {
   "cell_type": "code",
   "execution_count": 40,
   "metadata": {},
   "outputs": [
    {
     "data": {
      "image/png": "[encoded data removed]",
      "text/plain": [
       "<Figure size 800x600 with 1 Axes>"
      ]
     },
     "metadata": {},
     "output_type": "display_data"
    }
   ],
   "source": [
    "# Plot the graph using seaborn\n",
    "plt.figure(figsize=(8,6))\n",
    "ax = sns.countplot(data=dataset_orig_clean, x='sex', hue='income', palette='rocket')\n",
    "plt.xlabel('Gender')\n",
    "plt.ylabel('Number of Individuals')\n",
    "plt.title('Number of People Earning More and Less than 50K by Gender')\n",
    "plt.xticks([0, 1], labels=['Female', 'Male'], rotation=0)\n",
    "plt.legend(['<=50K', '>50K'])\n",
    "\n",
    "\n",
    "# Add the exact number of bars on top of each bar\n",
    "for p in ax.patches:\n",
    "    ax.annotate(f'{int(p.get_height())}', (p.get_x() + p.get_width() / 2., p.get_height()), \n",
    "                ha='center', va='center', xytext=(0, 10), textcoords='offset points')\n",
    "\n",
    "plt.show()"
   ]
  },
  {
   "cell_type": "code",
   "execution_count": 41,
   "metadata": {},
   "outputs": [],
   "source": [
    "# Count the number of people earning more and less than 50K, divided by gender\n",
    "income_gender_counts = dataset_orig_clean.groupby(['sex', 'income']).size().unstack()\n",
    "# if there are less female (sex=0) than male (x=1) earn >50K, female is the unprivileged group\n",
    "if (income_gender_counts.loc[0][1] < income_gender_counts.loc[1][1]):\n",
    "    privileged_groups = [{'sex': 1}]\n",
    "    unprivileged_groups = [{'sex': 0}]\n",
    "else:\n",
    "    privileged_groups = [{'sex': 0}]\n",
    "    unprivileged_groups = [{'sex': 1}]"
   ]
  },
  {
   "cell_type": "code",
   "execution_count": 42,
   "metadata": {},
   "outputs": [],
   "source": [
    "binary_dataset = BinaryLabelDataset(\n",
    "    df=dataset_orig_clean.copy(),\n",
    "    label_names=['income'],\n",
    "    favorable_label=1,\n",
    "    unfavorable_label=0,\n",
    "    protected_attribute_names=[sensible_attribute])"
   ]
  },
  {
   "cell_type": "markdown",
   "metadata": {},
   "source": [
    "### Split into train and test"
   ]
  },
  {
   "cell_type": "code",
   "execution_count": 43,
   "metadata": {},
   "outputs": [],
   "source": [
    "# Get the dataset and split into train and test\n",
    "dataset_orig_train, dataset_orig_test = binary_dataset.split([0.7], shuffle=True)"
   ]
  },
  {
   "cell_type": "code",
   "execution_count": 44,
   "metadata": {},
   "outputs": [],
   "source": [
    "df_train = dataset_orig_train.convert_to_dataframe()[0]\n",
    "df_test = dataset_orig_test.convert_to_dataframe()[0]"
   ]
  },
  {
   "cell_type": "code",
   "execution_count": 45,
   "metadata": {},
   "outputs": [
    {
     "name": "stdout",
     "output_type": "stream",
     "text": [
      "Training set: 21113 Testing set: 9049\n"
     ]
    }
   ],
   "source": [
    "# Count the number of people earning more and less than 50K, divided by gender for the training and testing datasets\n",
    "income_gender_counts_train = df_train.groupby(['sex', 'income']).size().unstack()\n",
    "income_gender_counts_test = df_test.groupby(['sex', 'income']).size().unstack()\n",
    "\n",
    "# Normalize the counts by the total number of individuals in each set\n",
    "train_size = df_train.shape[0]\n",
    "test_size = df_test.shape[0]\n",
    "\n",
    "print('Training set:', train_size, 'Testing set:', test_size)"
   ]
  },
  {
   "cell_type": "code",
   "execution_count": 46,
   "metadata": {},
   "outputs": [
    {
     "data": {
      "image/png": "[encoded data removed]",
      "text/plain": [
       "<Figure size 1000x600 with 1 Axes>"
      ]
     },
     "metadata": {},
     "output_type": "display_data"
    }
   ],
   "source": [
    "# Create a DataFrame for comparison\n",
    "df_comparison_train_test = pd.DataFrame({\n",
    "    'Male(<=50K)': [income_gender_counts_train.loc[1, 0]/train_size, income_gender_counts_test.loc[1, 0]/test_size],\n",
    "    'Male(>50K)': [income_gender_counts_train.loc[1, 1]/train_size, income_gender_counts_test.loc[1, 1]/test_size],\n",
    "    'Female(<=50K)': [income_gender_counts_train.loc[0, 0]/train_size, income_gender_counts_test.loc[0, 0]/test_size],\n",
    "    'Female(>50K)': [income_gender_counts_train.loc[0, 1]/train_size, income_gender_counts_test.loc[0, 1]/test_size],\n",
    "}, index=['Training', 'Testing'])\n",
    "\n",
    "# Resetting the DataFrame for Seaborn\n",
    "df_comparison_train_test_reset = df_comparison_train_test.reset_index().melt(id_vars='index', var_name='Gender_Income', value_name='Count')\n",
    "df_comparison_train_test_reset.rename(columns={'index': 'Dataset_Type'}, inplace=True)\n",
    "\n",
    "# Plotting with Seaborn\n",
    "plt.figure(figsize=(10, 6))\n",
    "sns.barplot(data=df_comparison_train_test_reset, x='Dataset_Type', y='Count', hue='Gender_Income', palette='rocket')\n",
    "plt.title(\"Income by Gender Across Training and Testing Datasets\")\n",
    "plt.xlabel(\"\")\n",
    "plt.ylabel(\"Count of Individuals\")\n",
    "plt.xticks(rotation=0)\n",
    "plt.legend(title=\"Income and Gender\")\n",
    "\n",
    "plt.show()"
   ]
  },
  {
   "cell_type": "code",
   "execution_count": 47,
   "metadata": {},
   "outputs": [
    {
     "data": {
      "text/markdown": [
       "#### Training & Test dimensions"
      ],
      "text/plain": [
       "<IPython.core.display.Markdown object>"
      ]
     },
     "metadata": {},
     "output_type": "display_data"
    },
    {
     "name": "stdout",
     "output_type": "stream",
     "text": [
      "21113 , 9049\n"
     ]
    }
   ],
   "source": [
    "display(Markdown(\"#### Training & Test dimensions\"))\n",
    "print(dataset_orig_train.features.shape[0],\",\", dataset_orig_test.features.shape[0])"
   ]
  },
  {
   "cell_type": "markdown",
   "metadata": {},
   "source": [
    "#### Display properties of the training dataset"
   ]
  },
  {
   "cell_type": "code",
   "execution_count": 48,
   "metadata": {},
   "outputs": [
    {
     "data": {
      "text/markdown": [
       "#### Training Dataset shape"
      ],
      "text/plain": [
       "<IPython.core.display.Markdown object>"
      ]
     },
     "metadata": {},
     "output_type": "display_data"
    },
    {
     "name": "stdout",
     "output_type": "stream",
     "text": [
      "(21113, 9)\n"
     ]
    },
    {
     "data": {
      "text/markdown": [
       "#### Favorable and unfavorable labels"
      ],
      "text/plain": [
       "<IPython.core.display.Markdown object>"
      ]
     },
     "metadata": {},
     "output_type": "display_data"
    },
    {
     "name": "stdout",
     "output_type": "stream",
     "text": [
      "1.0 0.0\n"
     ]
    },
    {
     "data": {
      "text/markdown": [
       "#### Protected attribute names"
      ],
      "text/plain": [
       "<IPython.core.display.Markdown object>"
      ]
     },
     "metadata": {},
     "output_type": "display_data"
    },
    {
     "name": "stdout",
     "output_type": "stream",
     "text": [
      "['sex']\n"
     ]
    },
    {
     "data": {
      "text/markdown": [
       "#### Privileged and unprivileged protected attribute values"
      ],
      "text/plain": [
       "<IPython.core.display.Markdown object>"
      ]
     },
     "metadata": {},
     "output_type": "display_data"
    },
    {
     "name": "stdout",
     "output_type": "stream",
     "text": [
      "[array([1.])] [array([0.])]\n"
     ]
    },
    {
     "data": {
      "text/markdown": [
       "#### Dataset feature names"
      ],
      "text/plain": [
       "<IPython.core.display.Markdown object>"
      ]
     },
     "metadata": {},
     "output_type": "display_data"
    },
    {
     "name": "stdout",
     "output_type": "stream",
     "text": [
      "['age', 'education.num', 'marital.status', 'race', 'sex', 'capital.gain', 'capital.loss', 'hours.per.week', 'native.country']\n"
     ]
    }
   ],
   "source": [
    "# print out some labels, names, etc.\n",
    "display(Markdown(\"#### Training Dataset shape\"))\n",
    "print(dataset_orig_train.features.shape)\n",
    "display(Markdown(\"#### Favorable and unfavorable labels\"))\n",
    "print(dataset_orig_train.favorable_label, dataset_orig_train.unfavorable_label)\n",
    "display(Markdown(\"#### Protected attribute names\"))\n",
    "print(dataset_orig_train.protected_attribute_names)\n",
    "display(Markdown(\"#### Privileged and unprivileged protected attribute values\"))\n",
    "print(dataset_orig_train.privileged_protected_attributes, \n",
    "      dataset_orig_train.unprivileged_protected_attributes)\n",
    "display(Markdown(\"#### Dataset feature names\"))\n",
    "print(dataset_orig_train.feature_names)"
   ]
  },
  {
   "cell_type": "code",
   "execution_count": 49,
   "metadata": {},
   "outputs": [
    {
     "data": {
      "text/markdown": [
       "#### Original training dataset"
      ],
      "text/plain": [
       "<IPython.core.display.Markdown object>"
      ]
     },
     "metadata": {},
     "output_type": "display_data"
    },
    {
     "name": "stdout",
     "output_type": "stream",
     "text": [
      "Statistical Parity Difference or Difference in mean outcomes between unprivileged and privileged groups = -0.196578\n"
     ]
    }
   ],
   "source": [
    "metric_orig_train = BinaryLabelDatasetMetric(dataset_orig_train, \n",
    "                                             unprivileged_groups=unprivileged_groups,\n",
    "                                             privileged_groups=privileged_groups)\n",
    "display(Markdown(\"#### Original training dataset\"))\n",
    "print(\"Statistical Parity Difference or Difference in mean outcomes between unprivileged and privileged groups = %f\" % metric_orig_train.mean_difference())"
   ]
  },
  {
   "cell_type": "markdown",
   "metadata": {},
   "source": [
    "### Train classifier on original data"
   ]
  },
  {
   "cell_type": "code",
   "execution_count": 50,
   "metadata": {},
   "outputs": [],
   "source": [
    "scale_orig = StandardScaler()\n",
    "X_train = scale_orig.fit_transform(dataset_orig_train.features)\n",
    "y_train = dataset_orig_train.labels.ravel()"
   ]
  },
  {
   "cell_type": "code",
   "execution_count": 51,
   "metadata": {},
   "outputs": [],
   "source": [
    "if model == \"Decision Tree\":\n",
    "    model_instance = DecisionTreeClassifier(max_features=14,min_samples_leaf=100,random_state=10)\n",
    "    model_instance.fit(X_train, y_train)\n",
    "    y_train_pred = model_instance.predict(X_train)\n",
    "elif model == \"Logistic Regression\":\n",
    "    model_instance = LogisticRegression(random_state=101)\n",
    "    model_instance.fit(X_train, y_train)\n",
    "    y_train_pred = model_instance.predict(X_train)\n",
    "elif model == \"Random Forest\":\n",
    "    model_instance = RandomForestClassifier(n_estimators=100, random_state=10)\n",
    "    model_instance.fit(X_train, y_train)\n",
    "    y_train_pred = model_instance.predict(X_train)\n",
    "elif model == \"KNN\":\n",
    "    model_instance = KNeighborsClassifier(n_neighbors=3)\n",
    "    model_instance.fit(X_train, y_train)\n",
    "    y_train_pred = model_instance.predict(X_train)\n",
    "\n",
    "\n",
    "\n",
    "# positive class index\n",
    "pos_ind = np.where(model_instance.classes_ == dataset_orig_train.favorable_label)[0][0]\n",
    "\n",
    "dataset_orig_train_pred = dataset_orig_train.copy(deepcopy=True)\n",
    "dataset_orig_train_pred.labels = y_train_pred\n"
   ]
  },
  {
   "cell_type": "code",
   "execution_count": 52,
   "metadata": {},
   "outputs": [],
   "source": [
    "df_train_pred = dataset_orig_train_pred.copy(deepcopy=True)\n",
    "df_train_pred.labels = df_train_pred.labels.reshape(-1, 1)\n",
    "df_train_pred = df_train_pred.convert_to_dataframe()[0]\n",
    "\n",
    "\n",
    "# above_50k_graph_df(df_train_pred)\n"
   ]
  },
  {
   "cell_type": "code",
   "execution_count": 53,
   "metadata": {},
   "outputs": [
    {
     "name": "stdout",
     "output_type": "stream",
     "text": [
      "Train accuracy: 0.8358\n"
     ]
    }
   ],
   "source": [
    "print(\"Train accuracy:\", round(accuracy_score(dataset_orig_train.labels, dataset_orig_train_pred.labels), 4))"
   ]
  },
  {
   "cell_type": "markdown",
   "metadata": {},
   "source": [
    "### Obtain scores for test set and find the optimal parameters from the test set"
   ]
  },
  {
   "cell_type": "code",
   "execution_count": 54,
   "metadata": {},
   "outputs": [],
   "source": [
    "dataset_orig_test_pred = dataset_orig_test.copy(deepcopy=True)\n",
    "X_test = scale_orig.transform(dataset_orig_test_pred.features)\n",
    "# y_test = dataset_orig_test_pred.labels\n",
    "dataset_orig_test_pred.scores = model_instance.predict_proba(X_test)[:,pos_ind].reshape(-1,1)"
   ]
  },
  {
   "cell_type": "markdown",
   "metadata": {},
   "source": [
    "#### Best threshold for classification only (no fairness)"
   ]
  },
  {
   "cell_type": "markdown",
   "metadata": {},
   "source": [
    "if one label is more common than the other label, then the dataset is imbalanced -> balanced accuracy\n",
    "\n",
    "0.5*(classified_metric_orig_test.true_positive_rate() + classified_metric_orig_test.true_negative_rate())"
   ]
  },
  {
   "cell_type": "code",
   "execution_count": 55,
   "metadata": {},
   "outputs": [
    {
     "name": "stdout",
     "output_type": "stream",
     "text": [
      "Best balanced accuracy (no fairness constraints) = 0.8127\n",
      "Optimal classification threshold (no fairness constraints) = 0.2179\n"
     ]
    }
   ],
   "source": [
    "num_thresh = 100\n",
    "ba_arr = np.zeros(num_thresh)\n",
    "class_thresh_arr = np.linspace(0.01, 0.99, num_thresh)\n",
    "for idx, class_thresh in enumerate(class_thresh_arr):\n",
    "    \n",
    "    fav_inds = dataset_orig_test_pred.scores > class_thresh\n",
    "    dataset_orig_test_pred.labels[fav_inds] = dataset_orig_test_pred.favorable_label\n",
    "    dataset_orig_test_pred.labels[~fav_inds] = dataset_orig_test_pred.unfavorable_label\n",
    "    \n",
    "    classified_metric_orig_test = ClassificationMetric(dataset_orig_test,\n",
    "                                             dataset_orig_test_pred, \n",
    "                                             unprivileged_groups=unprivileged_groups,\n",
    "                                             privileged_groups=privileged_groups)\n",
    "    \n",
    "    ba_arr[idx] = balanced_accuracy_score(dataset_orig_test.labels, dataset_orig_test_pred.labels)\n",
    "\n",
    "best_ind = np.where(ba_arr == np.max(ba_arr))[0][0]\n",
    "best_class_thresh = class_thresh_arr[best_ind]\n",
    "\n",
    "print(\"Best balanced accuracy (no fairness constraints) = %.4f\" % np.max(ba_arr))\n",
    "\n",
    "print(\"Optimal classification threshold (no fairness constraints) = %.4f\" % best_class_thresh)"
   ]
  },
  {
   "cell_type": "markdown",
   "metadata": {},
   "source": [
    "### Post-procesing technique"
   ]
  },
  {
   "cell_type": "markdown",
   "metadata": {},
   "source": [
    "#### Estimate optimal parameters for the ROC method"
   ]
  },
  {
   "cell_type": "code",
   "execution_count": 56,
   "metadata": {},
   "outputs": [],
   "source": [
    "# Upper and lower bound on the fairness metric used\n",
    "metric_ub = 0.05\n",
    "metric_lb = -0.05"
   ]
  },
  {
   "cell_type": "code",
   "execution_count": 57,
   "metadata": {},
   "outputs": [],
   "source": [
    "ROC = RejectOptionClassification(unprivileged_groups=unprivileged_groups, \n",
    "                                 privileged_groups=privileged_groups, \n",
    "                                 low_class_thresh=0.1, high_class_thresh=0.9,\n",
    "                                  num_class_thresh=100, num_ROC_margin=50,\n",
    "                                  metric_name=metric_name,\n",
    "                                  metric_ub=metric_ub, metric_lb=metric_lb)\n",
    "ROC = ROC.fit(dataset_orig_test, dataset_orig_test_pred)"
   ]
  },
  {
   "cell_type": "code",
   "execution_count": 58,
   "metadata": {},
   "outputs": [
    {
     "name": "stdout",
     "output_type": "stream",
     "text": [
      "Optimal classification threshold (with fairness constraints) = 0.1970\n",
      "Optimal ROC margin = 0.1286\n"
     ]
    }
   ],
   "source": [
    "print(\"Optimal classification threshold (with fairness constraints) = %.4f\" % ROC.classification_threshold)\n",
    "print(\"Optimal ROC margin = %.4f\" % ROC.ROC_margin)"
   ]
  },
  {
   "cell_type": "code",
   "execution_count": 59,
   "metadata": {},
   "outputs": [
    {
     "data": {
      "text/markdown": [
       "#### Test set"
      ],
      "text/plain": [
       "<IPython.core.display.Markdown object>"
      ]
     },
     "metadata": {},
     "output_type": "display_data"
    },
    {
     "data": {
      "text/markdown": [
       "##### Raw predictions - No fairness constraints, only maximizing balanced accuracy"
      ],
      "text/plain": [
       "<IPython.core.display.Markdown object>"
      ]
     },
     "metadata": {},
     "output_type": "display_data"
    },
    {
     "name": "stdout",
     "output_type": "stream",
     "text": [
      "Accuracy = 0.7861\n",
      "Recall = 0.8668\n",
      "Precision = 0.5488\n",
      "Balanced accuracy = 0.8127\n",
      "F1 = 0.6721\n",
      "Statistical parity difference = -0.3898\n",
      "Average odds difference = -0.2409\n",
      "Equal opportunity difference = -0.1948\n"
     ]
    }
   ],
   "source": [
    "# Metrics for the test set\n",
    "# if the probability of the positive class is greater than or equal to best_class_thresh, the sample will be classified as positive\n",
    "fav_inds = dataset_orig_test_pred.scores > best_class_thresh\n",
    "dataset_orig_test_pred.labels[fav_inds] = dataset_orig_test_pred.favorable_label\n",
    "dataset_orig_test_pred.labels[~fav_inds] = dataset_orig_test_pred.unfavorable_label\n",
    "\n",
    "display(Markdown(\"#### Test set\"))\n",
    "display(Markdown(\"##### Raw predictions - No fairness constraints, only maximizing balanced accuracy\"))\n",
    "\n",
    "metric_cl_test_bef = compute_cl_metrics(dataset_orig_test, dataset_orig_test_pred)\n",
    "metric_fn_test_bef = compute_fn_metrics(dataset_orig_test, dataset_orig_test_pred, unprivileged_groups, privileged_groups)"
   ]
  },
  {
   "cell_type": "markdown",
   "metadata": {},
   "source": [
    "#### Predictions from Test Set"
   ]
  },
  {
   "cell_type": "code",
   "execution_count": 60,
   "metadata": {},
   "outputs": [],
   "source": [
    "df_test_pred = dataset_orig_test_pred.convert_to_dataframe()[0]"
   ]
  },
  {
   "cell_type": "code",
   "execution_count": 61,
   "metadata": {},
   "outputs": [
    {
     "data": {
      "text/plain": [
       "<Figure size 300x300 with 0 Axes>"
      ]
     },
     "metadata": {},
     "output_type": "display_data"
    },
    {
     "data": {
      "image/png": "[encoded data removed]",
      "text/plain": [
       "<Figure size 640x480 with 2 Axes>"
      ]
     },
     "metadata": {},
     "output_type": "display_data"
    }
   ],
   "source": [
    "cm_test = conf_matrix(dataset_orig_test, dataset_orig_test_pred)\n",
    "\n",
    "TP_discr = cm_test[1][1]\n",
    "TN_discr = cm_test[0][0]\n",
    "FN_discr = cm_test[1][0]\n",
    "FP_discr = cm_test[0][1]"
   ]
  },
  {
   "cell_type": "code",
   "execution_count": 62,
   "metadata": {},
   "outputs": [],
   "source": [
    "# above_50k_graph(dataset_orig_test_pred)"
   ]
  },
  {
   "cell_type": "markdown",
   "metadata": {},
   "source": [
    "#### ROC prediction"
   ]
  },
  {
   "cell_type": "code",
   "execution_count": 63,
   "metadata": {},
   "outputs": [
    {
     "data": {
      "text/markdown": [
       "#### Test set"
      ],
      "text/plain": [
       "<IPython.core.display.Markdown object>"
      ]
     },
     "metadata": {},
     "output_type": "display_data"
    },
    {
     "data": {
      "text/markdown": [
       "##### Transformed predictions - With fairness constraints"
      ],
      "text/plain": [
       "<IPython.core.display.Markdown object>"
      ]
     },
     "metadata": {},
     "output_type": "display_data"
    },
    {
     "name": "stdout",
     "output_type": "stream",
     "text": [
      "Accuracy = 0.7689\n",
      "Recall = 0.7851\n",
      "Precision = 0.5292\n",
      "Balanced accuracy = 0.7743\n",
      "F1 = 0.6322\n",
      "Statistical parity difference = -0.0482\n",
      "Average odds difference = 0.1007\n",
      "Equal opportunity difference = 0.1449\n"
     ]
    }
   ],
   "source": [
    "# Metrics for the transformed test set\n",
    "dataset_transf_test_pred = ROC.predict(dataset_orig_test_pred)\n",
    "\n",
    "display(Markdown(\"#### Test set\"))\n",
    "display(Markdown(\"##### Transformed predictions - With fairness constraints\"))\n",
    "metric_cl_test_aft = compute_cl_metrics(dataset_orig_test, dataset_transf_test_pred)\n",
    "metric_fn_test_aft = compute_fn_metrics(dataset_orig_test, dataset_transf_test_pred, \n",
    "                unprivileged_groups, privileged_groups)"
   ]
  },
  {
   "cell_type": "code",
   "execution_count": 64,
   "metadata": {},
   "outputs": [],
   "source": [
    "df_test_transf_pred = dataset_transf_test_pred.convert_to_dataframe()[0]"
   ]
  },
  {
   "cell_type": "code",
   "execution_count": 65,
   "metadata": {},
   "outputs": [],
   "source": [
    "# conf_matrix(dataset_orig_test, dataset_transf_test_pred)\n",
    "# above_50k_graph(dataset_transf_test_pred)"
   ]
  },
  {
   "cell_type": "code",
   "execution_count": 66,
   "metadata": {},
   "outputs": [
    {
     "data": {
      "text/html": [
       "<div>\n",
       "<style scoped>\n",
       "    .dataframe tbody tr th:only-of-type {\n",
       "        vertical-align: middle;\n",
       "    }\n",
       "\n",
       "    .dataframe tbody tr th {\n",
       "        vertical-align: top;\n",
       "    }\n",
       "\n",
       "    .dataframe thead th {\n",
       "        text-align: right;\n",
       "    }\n",
       "</style>\n",
       "<table border=\"1\" class=\"dataframe\">\n",
       "  <thead>\n",
       "    <tr style=\"text-align: right;\">\n",
       "      <th></th>\n",
       "      <th>Male(&lt;=50K)</th>\n",
       "      <th>Male(&gt;50K)</th>\n",
       "      <th>Female(&lt;=50K)</th>\n",
       "      <th>Female(&gt;50K)</th>\n",
       "    </tr>\n",
       "  </thead>\n",
       "  <tbody>\n",
       "    <tr>\n",
       "      <th>Original</th>\n",
       "      <td>4149</td>\n",
       "      <td>1959</td>\n",
       "      <td>2611</td>\n",
       "      <td>330</td>\n",
       "    </tr>\n",
       "    <tr>\n",
       "      <th>Predicted</th>\n",
       "      <td>2894</td>\n",
       "      <td>3214</td>\n",
       "      <td>2540</td>\n",
       "      <td>401</td>\n",
       "    </tr>\n",
       "    <tr>\n",
       "      <th>Transformed</th>\n",
       "      <td>3720</td>\n",
       "      <td>2388</td>\n",
       "      <td>1933</td>\n",
       "      <td>1008</td>\n",
       "    </tr>\n",
       "  </tbody>\n",
       "</table>\n",
       "</div>"
      ],
      "text/plain": [
       "             Male(<=50K)  Male(>50K)  Female(<=50K)  Female(>50K)\n",
       "Original            4149        1959           2611           330\n",
       "Predicted           2894        3214           2540           401\n",
       "Transformed         3720        2388           1933          1008"
      ]
     },
     "execution_count": 66,
     "metadata": {},
     "output_type": "execute_result"
    }
   ],
   "source": [
    "# Count the number of people earning more and less than 50K, divided by gender for the original test dataset, predicted test dataset and predicted after pp\n",
    "income_gender_counts_test_pred = dataset_orig_test_pred.convert_to_dataframe()[0].groupby(['sex', 'income']).size().unstack()\n",
    "income_gender_counts_transf_test_pred = dataset_transf_test_pred.convert_to_dataframe()[0].groupby(['sex', 'income']).size().unstack()\n",
    "\n",
    "df_comparison = pd.DataFrame({\n",
    "    'Male(<=50K)': [income_gender_counts_test.loc[1, 0], income_gender_counts_test_pred.loc[1, 0], income_gender_counts_transf_test_pred.loc[1,0]],\n",
    "    'Male(>50K)': [income_gender_counts_test.loc[1, 1], income_gender_counts_test_pred.loc[1, 1], income_gender_counts_transf_test_pred.loc[1,1]],\n",
    "    'Female(<=50K)': [income_gender_counts_test.loc[0, 0], income_gender_counts_test_pred.loc[0, 0], income_gender_counts_transf_test_pred.loc[0,0]],\n",
    "    'Female(>50K)': [income_gender_counts_test.loc[0, 1], income_gender_counts_test_pred.loc[0, 1], income_gender_counts_transf_test_pred.loc[0,1]],\n",
    "})\n",
    "\n",
    "df_comparison.index = ['Original', 'Predicted', 'Transformed']\n",
    "df_comparison\n"
   ]
  },
  {
   "cell_type": "markdown",
   "metadata": {},
   "source": [
    "#### Accuracy \n",
    "Accuracy = 1 - (number of data units in error)/Total number of Not null data units"
   ]
  },
  {
   "cell_type": "code",
   "execution_count": 67,
   "metadata": {
    "vscode": {
     "languageId": "javascript"
    }
   },
   "outputs": [
    {
     "ename": "NameError",
     "evalue": "name 'total_test_len' is not defined",
     "output_type": "error",
     "traceback": [
      "\u001b[0;31m---------------------------------------------------------------------------\u001b[0m",
      "\u001b[0;31mNameError\u001b[0m                                 Traceback (most recent call last)",
      "Cell \u001b[0;32mIn[67], line 2\u001b[0m\n\u001b[1;32m      1\u001b[0m man_accuracy \u001b[38;5;241m=\u001b[39m \u001b[38;5;28mround\u001b[39m(\n\u001b[0;32m----> 2\u001b[0m     (\u001b[38;5;241m1\u001b[39m \u001b[38;5;241m-\u001b[39m \u001b[38;5;28mabs\u001b[39m(income_gender_counts_transf_test_pred\u001b[38;5;241m.\u001b[39mloc[\u001b[38;5;241m1\u001b[39m, \u001b[38;5;241m1\u001b[39m] \u001b[38;5;241m-\u001b[39m income_gender_counts_test\u001b[38;5;241m.\u001b[39mloc[\u001b[38;5;241m1\u001b[39m, \u001b[38;5;241m1\u001b[39m]) \u001b[38;5;241m/\u001b[39m \u001b[43mtotal_test_len\u001b[49m), \u001b[38;5;241m3\u001b[39m)\n\u001b[1;32m      3\u001b[0m female_accuracy \u001b[38;5;241m=\u001b[39m \u001b[38;5;28mround\u001b[39m(\n\u001b[1;32m      4\u001b[0m     (\u001b[38;5;241m1\u001b[39m \u001b[38;5;241m-\u001b[39m \u001b[38;5;28mabs\u001b[39m(income_gender_counts_transf_test_pred\u001b[38;5;241m.\u001b[39mloc[\u001b[38;5;241m0\u001b[39m, \u001b[38;5;241m0\u001b[39m] \u001b[38;5;241m-\u001b[39m income_gender_counts_test\u001b[38;5;241m.\u001b[39mloc[\u001b[38;5;241m0\u001b[39m, \u001b[38;5;241m0\u001b[39m]) \u001b[38;5;241m/\u001b[39m total_test_len), \u001b[38;5;241m3\u001b[39m)\n\u001b[1;32m      6\u001b[0m accuracy \u001b[38;5;241m=\u001b[39m {\n\u001b[1;32m      7\u001b[0m     \u001b[38;5;124m\"\u001b[39m\u001b[38;5;124mMan\u001b[39m\u001b[38;5;124m\"\u001b[39m: [man_accuracy],\n\u001b[1;32m      8\u001b[0m     \u001b[38;5;124m\"\u001b[39m\u001b[38;5;124mFemale\u001b[39m\u001b[38;5;124m\"\u001b[39m: [female_accuracy]\n\u001b[1;32m      9\u001b[0m }\n",
      "\u001b[0;31mNameError\u001b[0m: name 'total_test_len' is not defined"
     ]
    }
   ],
   "source": [
    "man_accuracy = round(\n",
    "    (1 - abs(income_gender_counts_transf_test_pred.loc[1, 1] - income_gender_counts_test.loc[1, 1]) / total_test_len), 3)\n",
    "female_accuracy = round(\n",
    "    (1 - abs(income_gender_counts_transf_test_pred.loc[0, 0] - income_gender_counts_test.loc[0, 0]) / total_test_len), 3)\n",
    "\n",
    "accuracy = {\n",
    "    \"Man\": [man_accuracy],\n",
    "    \"Female\": [female_accuracy]\n",
    "}\n",
    "df_accuracy = pd.DataFrame(accuracy, index=[\"Accuracy\"])\n",
    "df_accuracy\n"
   ]
  },
  {
   "cell_type": "code",
   "execution_count": null,
   "metadata": {},
   "outputs": [],
   "source": [
    "# Calculate the initial tables\n",
    "income_gender_counts_test = dataset_orig_test.convert_to_dataframe()[0].groupby(['sex', 'income']).size().unstack()\n",
    "income_gender_counts_test_pred = dataset_orig_test_pred.convert_to_dataframe()[0].groupby(['sex', 'income']).size().unstack()\n",
    "income_gender_counts_transf_test_pred = dataset_transf_test_pred.convert_to_dataframe()[0].groupby(['sex', 'income']).size().unstack()\n",
    "\n",
    "total_test_len = df_test.shape[0]\n",
    "\n",
    "# Create the initial comparison DataFrame\n",
    "df_comparison_transf = pd.DataFrame({\n",
    "    '% male(<=50K)': [(income_gender_counts_transf_test_pred.loc[1,0] / total_test_len) *100],\n",
    "    '% male(>50K)': [(income_gender_counts_transf_test_pred.loc[1,1] / total_test_len) *100],\n",
    "    '% female(<=50K)': [(income_gender_counts_transf_test_pred.loc[0,0] / total_test_len) *100],\n",
    "    '% female(>50K)': [(income_gender_counts_transf_test_pred.loc[0,1] / total_test_len) *100]\n",
    "}).map(lambda x: f\"{x:.2f}%\")\n",
    "\n",
    "df_comparison_transf.index = [model]\n",
    "df_comparison_transf"
   ]
  },
  {
   "cell_type": "code",
   "execution_count": null,
   "metadata": {},
   "outputs": [],
   "source": [
    "# Calculate the initial tables\n",
    "income_gender_counts_test = dataset_orig_test.convert_to_dataframe()[0].groupby(['sex', 'income']).size().unstack()\n",
    "income_gender_counts_test_pred = dataset_orig_test_pred.convert_to_dataframe()[0].groupby(['sex', 'income']).size().unstack()\n",
    "income_gender_counts_transf_test_pred = dataset_transf_test_pred.convert_to_dataframe()[0].groupby(['sex', 'income']).size().unstack()\n",
    "\n",
    "\n",
    "# Create the initial comparison DataFrame\n",
    "df_comparison_transf = pd.DataFrame({\n",
    "    # ((male<=50(transf)-male<=50(orig)) / male<=50(orig))) *100\n",
    "    'Δ male(<=50K)': [(income_gender_counts_transf_test_pred.loc[1,0]-income_gender_counts_test.loc[1, 0])],\n",
    "    'Δ male(>50K)': [(income_gender_counts_transf_test_pred.loc[1,1]-income_gender_counts_test.loc[1, 1]) ],\n",
    "    'Δ female(<=50K)': [(income_gender_counts_transf_test_pred.loc[0,0]-income_gender_counts_test.loc[0, 0]) ],\n",
    "    'Δ female(>50K)': [(income_gender_counts_transf_test_pred.loc[0,1]-income_gender_counts_test.loc[0, 1])]\n",
    "})\n",
    "\n",
    "df_comparison_transf.index = [model]\n",
    "df_comparison_transf\n"
   ]
  },
  {
   "cell_type": "code",
   "execution_count": null,
   "metadata": {},
   "outputs": [],
   "source": [
    "# Resetting the DataFrame for Seaborn\n",
    "df_comparison_reset = df_comparison[['Male(<=50K)', 'Male(>50K)', 'Female(<=50K)', 'Female(>50K)']].reset_index().melt(id_vars='index', var_name='Gender_Income', value_name='Count')\n",
    "df_comparison_reset.rename(columns={'index': 'Dataset_Type'}, inplace=True)\n",
    "\n",
    "# Plotting with Seaborn\n",
    "plt.figure(figsize=(10, 6))\n",
    "sns.barplot(data=df_comparison_reset, x='Dataset_Type', y='Count', hue='Gender_Income', palette='rocket')\n",
    "plt.title(\"Income by Gender Across Original, Predicted, and Transformed Datasets\")\n",
    "plt.xlabel(\"Dataset Type\")\n",
    "plt.ylabel(\"Count of Individuals\")\n",
    "plt.xticks(rotation=0)\n",
    "plt.legend(title=\"Income and Gender\")\n",
    "\n",
    "plt.show()"
   ]
  },
  {
   "cell_type": "markdown",
   "metadata": {},
   "source": [
    "### Evaluation Metrics For Classification Model and Fairness"
   ]
  },
  {
   "cell_type": "code",
   "execution_count": null,
   "metadata": {},
   "outputs": [],
   "source": [
    "plot_metrics(metric_cl_test_bef, metric_cl_test_aft)"
   ]
  },
  {
   "cell_type": "code",
   "execution_count": null,
   "metadata": {},
   "outputs": [],
   "source": [
    "df_cl_metrics = pd.DataFrame({\n",
    "    'Metric': list(metric_cl_test_bef.keys()),\n",
    "    'Before': [round(val, 3) for val in metric_cl_test_bef.values()],\n",
    "    'After': [round(val, 3) for val in metric_cl_test_aft.values()]\n",
    "})\n",
    "\n",
    "# Calculate the percentage change\n",
    "df_cl_metrics['Delta'] = (abs(df_cl_metrics['Before']) - abs(df_cl_metrics['After'])).apply(lambda x: f\"{x:.3f}\")\n",
    "df_cl_metrics"
   ]
  },
  {
   "cell_type": "code",
   "execution_count": null,
   "metadata": {},
   "outputs": [],
   "source": [
    "round(abs(metric_cl_test_bef['Accuracy'])-abs(metric_cl_test_aft['Accuracy']), 3)"
   ]
  },
  {
   "cell_type": "code",
   "execution_count": null,
   "metadata": {},
   "outputs": [],
   "source": [
    "plot_fn_metrics(metric_fn_test_bef, metric_fn_test_aft, metric_name)"
   ]
  },
  {
   "cell_type": "code",
   "execution_count": null,
   "metadata": {},
   "outputs": [],
   "source": [
    "df_metrics = pd.DataFrame({\n",
    "    'Metric': list(metric_fn_test_bef.keys()),\n",
    "    'Before': [round(val, 3) for val in metric_fn_test_bef.values()],\n",
    "    'After': [round(val, 3) for val in metric_fn_test_aft.values()]\n",
    "})\n",
    "\n",
    "# Calculate the percentage change\n",
    "df_metrics['Delta'] = (df_metrics['After'] - df_metrics['Before']).apply(lambda x: f\"{x:.3f}\")\n",
    "df_metrics"
   ]
  },
  {
   "cell_type": "code",
   "execution_count": null,
   "metadata": {},
   "outputs": [],
   "source": [
    "def get_test_groups(df_test, unprivileged_groups, privileged_groups):\n",
    "    test_discriminated = df_test.loc[df_test['sex'] == unprivileged_groups[0]['sex']]\n",
    "    test_privileged = df_test.loc[df_test['sex'] == privileged_groups[0]['sex']]\n",
    "    print(len(test_privileged), len(test_discriminated))\n",
    "    y_test_discriminated = test_discriminated['income'].astype(int)\n",
    "    y_test_privileged = test_privileged['income'].astype(int)\n",
    "    return y_test_privileged, y_test_discriminated"
   ]
  },
  {
   "cell_type": "code",
   "execution_count": null,
   "metadata": {},
   "outputs": [],
   "source": [
    "y_test_privileged, y_test_discriminated = get_test_groups(df_test, unprivileged_groups, privileged_groups)\n",
    "y_test_pred_privileged, y_test_pred_discriminated = get_test_groups(df_test_pred, unprivileged_groups, privileged_groups)\n",
    "y_test_transf_pred_privileged, y_test_transf_pred_discriminated = get_test_groups(df_test_transf_pred, unprivileged_groups, privileged_groups)"
   ]
  },
  {
   "cell_type": "code",
   "execution_count": null,
   "metadata": {},
   "outputs": [],
   "source": [
    "assert(len(y_test_privileged) == len(y_test_pred_privileged) == len(y_test_transf_pred_privileged))\n",
    "assert(len(y_test_discriminated) == len(y_test_pred_discriminated) == len(y_test_transf_pred_discriminated))"
   ]
  },
  {
   "cell_type": "code",
   "execution_count": null,
   "metadata": {},
   "outputs": [],
   "source": [
    "\n",
    "def calculate_confusion_matrix(y_true, y_pred):\n",
    "    cm = confusion_matrix(y_true, y_pred)\n",
    "    print(cm)\n",
    "    \n",
    "    TP = cm[1][1]\n",
    "    TN = cm[0][0]\n",
    "    FN = cm[1][0]\n",
    "    FP = cm[0][1]\n",
    "    total = TP + TN + FN + FP\n",
    "    \n",
    "    return TP, TN, FN, FP, total"
   ]
  },
  {
   "cell_type": "markdown",
   "metadata": {},
   "source": [
    "#### Fairness metrics before applying post-processing"
   ]
  },
  {
   "cell_type": "markdown",
   "metadata": {},
   "source": [
    "#### Fairness metrics after applying post-processing"
   ]
  },
  {
   "cell_type": "code",
   "execution_count": null,
   "metadata": {},
   "outputs": [],
   "source": [
    "TP_discr, TN_discr, FN_discr, FP_discr, len_priv = calculate_confusion_matrix(y_test_discriminated, y_test_pred_discriminated)\n",
    "TP_priv, TN_priv, FN_priv, FP_priv, len_discr = calculate_confusion_matrix(y_test_privileged, y_test_pred_privileged)\n",
    "TP_discr_pp, TN_discr_pp, FN_discr_pp, FP_discr_pp, len_discr_pp = calculate_confusion_matrix(y_test_discriminated, y_test_transf_pred_discriminated)\n",
    "TP_priv_pp, TN_priv_pp, FN_priv_pp, FP_priv_pp, len_priv_pp = calculate_confusion_matrix(y_test_privileged, y_test_transf_pred_privileged)"
   ]
  },
  {
   "cell_type": "code",
   "execution_count": null,
   "metadata": {},
   "outputs": [],
   "source": [
    "# Retrieve TP, TN, FP, FN values from a confusion matrix\n",
    "def retrieve_values(cm):\n",
    "  TN = cm[0][0]\n",
    "  FP = cm[0][1]\n",
    "  FN = cm[1][0]\n",
    "  TP = cm[1][1]\n",
    "  total = TN+FP+FN+TP\n",
    "  return TP, TN, FP, FN, total\n",
    "\n",
    "def rescale(metric):\n",
    "  metric = metric - 1\n",
    "  return metric\n",
    "\n",
    "def standardization(metric):\n",
    "  if metric > 1:\n",
    "    metric = 1\n",
    "  elif metric < -1:\n",
    "    metric = -1\n",
    "  return metric\n",
    "\n",
    "def valid(metric, th):\n",
    "  if metric > 1-th and metric < 1+th:\n",
    "    return True\n",
    "  return False\n",
    "\n",
    "def and_function(m1, m2, th):\n",
    "  if m1 > 1+th and m2 > 1+th:\n",
    "    return max(m1, m2)\n",
    "  elif m1 < 1-th and m2 < 1-th:\n",
    "    return min(m1, m2)\n",
    "  elif valid(m1, th) and valid(m2, th):\n",
    "    return max(m1, m2)\n",
    "  elif (valid(m1, th) or valid(m2, th)) and (m1 > 1+th or m2 > 1+th):\n",
    "    return max(m1, m2)\n",
    "  elif (valid(m1, th) or valid(m2, th)) and (m1 < 1-th or m2 < 1-th):\n",
    "    return min(m1, m2)\n",
    "  else:\n",
    "    return max(m1, m2)\n",
    "\n",
    "# Fairness metrics computed using division operator\n",
    "def fairness_metrics_division(TP_discr, TN_discr, FP_discr, FN_discr, len_discr, TP_priv, TN_priv, FP_priv, FN_priv, len_priv, threshold = 0.15):\n",
    "\n",
    "  # TP_priv, TN_priv, FP_priv, FN_priv, len_priv = retrieve_values(confusion_matrix['privileged'])\n",
    "  # TP_discr, TN_discr, FP_discr, FN_discr, len_discr = retrieve_values(confusion_matrix['discriminated'])\n",
    "\n",
    "  GroupFairness_discr = (TP_discr+FP_discr)/len_discr\n",
    "  GroupFairness_priv = (TP_priv+FP_priv)/len_priv\n",
    "  if GroupFairness_priv == 0:\n",
    "    GroupFairness = 2  #max value\n",
    "  else:\n",
    "     GroupFairness = GroupFairness_discr/GroupFairness_priv\n",
    "\n",
    "  if TP_discr+FP_discr == 0:\n",
    "    PredictiveParity_discr = 0\n",
    "    PredictiveParity = 0  #min value\n",
    "  else:\n",
    "    PredictiveParity_discr = (TP_discr)/(TP_discr+FP_discr)\n",
    "  if TP_priv+FP_priv == 0:\n",
    "    PredictiveParity_priv = 0\n",
    "    PredictiveParity = 2  #max value\n",
    "  else:\n",
    "    PredictiveParity_priv = (TP_priv)/(TP_priv+FP_priv)\n",
    "  if PredictiveParity_discr != 0 and PredictiveParity_priv != 0:\n",
    "    PredictiveParity = PredictiveParity_discr/PredictiveParity_priv\n",
    "  elif PredictiveParity_priv == 0:\n",
    "    PredictiveParity = 2  #max value\n",
    "  else:\n",
    "    PredictiveParity = 0  #min value\n",
    "\n",
    "  if TN_discr+FP_discr == 0:\n",
    "    PredictiveEquality_discr = 0\n",
    "    PredictiveEquality = 0  #min value\n",
    "  else:\n",
    "    PredictiveEquality_discr = (FP_discr)/(TN_discr+FP_discr)\n",
    "  if TN_priv+FP_priv == 0:\n",
    "    PredictiveEquality_priv = 0\n",
    "    PredictiveEquality = 2  #max value\n",
    "  else:\n",
    "    PredictiveEquality_priv = (FP_priv)/(TN_priv+FP_priv)\n",
    "  if PredictiveEquality_discr != 0 and PredictiveEquality_priv != 0:\n",
    "    PredictiveEquality = PredictiveEquality_discr/PredictiveEquality_priv\n",
    "  elif PredictiveEquality_priv == 0:\n",
    "    PredictiveEquality = 2  #max value\n",
    "  else:\n",
    "    PredictiveEquality = 0  #min value\n",
    "\n",
    "  if FN_priv+TP_priv == 0:\n",
    "    EqualOpportunity_priv = 0\n",
    "    EqualOpportunity = 2  #max value\n",
    "  else:\n",
    "    EqualOpportunity_priv = (FN_priv)/(TP_priv+FN_priv)\n",
    "  if FN_discr+TP_discr == 0:\n",
    "    EqualOpportunity_discr = 0\n",
    "    EqualOpportunity = 0  #min value\n",
    "  else:\n",
    "    EqualOpportunity_discr = (FN_discr)/(TP_discr+FN_discr)\n",
    "  if EqualOpportunity_priv != 0 and EqualOpportunity_discr != 0:\n",
    "    EqualOpportunity = EqualOpportunity_priv/EqualOpportunity_discr\n",
    "  elif EqualOpportunity_discr == 0:\n",
    "    EqualOpportunity = 0  #min value\n",
    "  else:\n",
    "    EqualOpportunity = 2  #max value\n",
    "\n",
    "  if FN_discr+TP_discr == 0:\n",
    "    EqualizedOdds1 = 0\n",
    "    EqualizedOdds = 0 #min value\n",
    "  elif FN_priv+TP_priv == 0:\n",
    "    EqualizedOdds1 = 0\n",
    "    EqualizedOdds = 2 #max value\n",
    "  elif (TP_priv/(TP_priv+FN_priv)) == 0:\n",
    "    EqualizedOdds1 = 2 #max value\n",
    "  else:\n",
    "    EqualizedOdds1 = ((TP_discr/(TP_discr+FN_discr)) / (TP_priv/(TP_priv+FN_priv))) # (1-equalOpportunity_discr)/(1-equalOpportunity_priv)\n",
    "  if TN_priv+FP_priv == 0:\n",
    "    EqualizedOdds2 = 0\n",
    "    EqualizedOdds = 2 #max value\n",
    "  elif TN_discr+FP_discr == 0:\n",
    "    EqualizedOdds2 = 0\n",
    "    EqualizedOdds = 0 #min value\n",
    "  elif (FP_priv/(TN_priv+FP_priv)) == 0:\n",
    "    EqualizedOdds2 = 2 #max value\n",
    "  else:\n",
    "    EqualizedOdds2 = ((FP_discr/(TN_discr+FP_discr)) / (FP_priv/(TN_priv+FP_priv))) # = PredictiveEquality\n",
    "  # EqualizedOdds = (EqualizedOdds1 * EqualizedOdds2)\n",
    "  if EqualizedOdds1 != 0 and EqualizedOdds2 != 0:\n",
    "    EqualizedOdds = and_function(EqualizedOdds1, EqualizedOdds2, threshold)\n",
    "  else:\n",
    "    EqualizedOdds = 2 #max value\n",
    "\n",
    "  if TP_discr+FP_discr == 0 or TN_discr+FP_discr == 0:\n",
    "    ConditionalUseAccuracyEquality1 = 0\n",
    "    ConditionalUseAccuracyEquality= 0 #min value\n",
    "  elif (TP_priv/(TP_priv+FP_priv)) == 0:\n",
    "    ConditionalUseAccuracyEquality1 = 2 #max value\n",
    "  else:\n",
    "    ConditionalUseAccuracyEquality1 = ((TP_discr/(TP_discr+FP_discr)) / (TP_priv/(TP_priv+FP_priv)))\n",
    "  if TN_discr+FN_discr == 0 or TN_priv+FN_priv == 0:\n",
    "    ConditionalUseAccuracyEquality2 = 0\n",
    "    ConditionalUseAccuracyEquality = 2 #max value\n",
    "  elif (TN_priv/(TN_priv+FN_priv)) == 0:\n",
    "    ConditionalUseAccuracyEquality2 = 2 #max value\n",
    "  else:\n",
    "    ConditionalUseAccuracyEquality2 = ((TN_discr/(TN_discr+FN_discr)) / (TN_priv/(TN_priv+FN_priv)))\n",
    "  # ConditionalUseAccuracyEquality = (ConditionalUseAccuracyEquality1 * ConditionalUseAccuracyEquality2)\n",
    "  if ConditionalUseAccuracyEquality1 != 0 and ConditionalUseAccuracyEquality2 != 0:\n",
    "    ConditionalUseAccuracyEquality = and_function(ConditionalUseAccuracyEquality1, ConditionalUseAccuracyEquality2, threshold)\n",
    "  else:\n",
    "    ConditionalUseAccuracyEquality = 2 #max value\n",
    "\n",
    "  if TP_priv == 0:\n",
    "    OAE1 = 0\n",
    "    OverallAccuracyEquality = 2 #max value\n",
    "  else:\n",
    "    OAE1 = TP_discr/TP_priv\n",
    "  if TN_priv == 0:\n",
    "    OAE2 = 0\n",
    "    OverallAccuracyEquality = 2 #max value\n",
    "  else:\n",
    "    OAE2 = TN_discr/TN_priv\n",
    "  # OverallAccuracyEquality = (OAE1 * OAE2)\n",
    "  if OAE1 != 0 and OAE2 != 0:\n",
    "    OverallAccuracyEquality = and_function(OAE1, OAE2, threshold)\n",
    "  else:\n",
    "    OverallAccuracyEquality = 2 #max value\n",
    "\n",
    "  if FP_priv == 0:\n",
    "    TreatmentEquality_priv = 0\n",
    "    TreatmentEquality = 2  #max value\n",
    "  else:\n",
    "    TreatmentEquality_priv = (FN_priv/FP_priv)\n",
    "  if FP_discr == 0:\n",
    "    TreatmentEquality_discr = 0\n",
    "    TreatmentEquality = 0 #min value\n",
    "  elif (FN_discr/FP_discr) == 0:\n",
    "    TreatmentEquality_discr = 0 #max value\n",
    "    TreatmentEquality = 0 #min value\n",
    "  else:\n",
    "    TreatmentEquality_discr = (FN_discr/FP_discr)\n",
    "  if TreatmentEquality_priv != 0 and TreatmentEquality_discr != 0:\n",
    "    TreatmentEquality = TreatmentEquality_priv/TreatmentEquality_discr\n",
    "  elif TreatmentEquality_priv == 0:\n",
    "    TreatmentEquality = 2 #max value\n",
    "  else:\n",
    "    TreatmentEquality = 0 #min value\n",
    "\n",
    "  if TN_priv+FN_priv == 0:\n",
    "    FORParity_priv = 0\n",
    "    FORParity = 2 #max value\n",
    "  else:\n",
    "    FORParity_priv = (FN_priv)/(TN_priv+FN_priv)\n",
    "  if TN_discr+FN_discr == 0:\n",
    "    FORParity_discr = 0\n",
    "    FORParity = 0  #min value\n",
    "  elif (FN_discr)/(TN_discr+FN_discr) == 0:\n",
    "    FORParity_discr = 0\n",
    "    FORParity = 0 #min value\n",
    "  else:\n",
    "    FORParity_discr = (FN_discr)/(TN_discr+FN_discr)\n",
    "  if FORParity_priv != 0 and FORParity_discr != 0:\n",
    "    FORParity = FORParity_priv/FORParity_discr\n",
    "  elif FORParity_priv == 0:\n",
    "    FORParity = 2 #max value\n",
    "  else:\n",
    "    FORParity = 0 #min value\n",
    "\n",
    "\n",
    "  FN_P_discr = (FN_discr)/len_discr\n",
    "  FN_P_priv = (FN_priv)/len_priv\n",
    "  if FN_P_discr == 0:\n",
    "    FN_metric = 2  #max value\n",
    "  else:\n",
    "    FN_metric = FN_P_priv/FN_P_discr\n",
    "\n",
    "\n",
    "  FP_P_discr = (FP_discr)/len_discr\n",
    "  FP_P_priv = (FP_priv)/len_priv\n",
    "  if FP_P_priv == 0:\n",
    "    FP_metric = 0  #min value\n",
    "  else:\n",
    "    FP_metric = FP_P_discr/FP_P_priv\n",
    "\n",
    "\n",
    "  #RecallParity = (TP_discr/(TP_discr+FN_discr))/(TP_priv/(TP_priv+FN_priv))\n",
    "\n",
    "  metrics = {}\n",
    "  metrics['GroupFairness'] = [GroupFairness, GroupFairness_discr, GroupFairness_priv]\n",
    "  metrics['PredictiveParity'] = [PredictiveParity, PredictiveParity_discr, PredictiveParity_priv]\n",
    "  metrics['PredictiveEquality'] = [PredictiveEquality, PredictiveEquality_discr, PredictiveEquality_priv]\n",
    "  metrics['EqualOpportunity'] = [EqualOpportunity, EqualOpportunity_discr, EqualOpportunity_priv]\n",
    "  metrics['EqualizedOdds'] = [EqualizedOdds, EqualizedOdds1, EqualizedOdds2]\n",
    "  metrics['ConditionalUseAccuracyEquality'] = [ConditionalUseAccuracyEquality, ConditionalUseAccuracyEquality1 , ConditionalUseAccuracyEquality2]\n",
    "  metrics['OverallAccuracyEquality'] = [OverallAccuracyEquality, OAE1, OAE2]\n",
    "  metrics['TreatmentEquality'] = [TreatmentEquality, TreatmentEquality_discr, TreatmentEquality_priv]\n",
    "  metrics['FORParity'] = [FORParity, FORParity_discr, FORParity_priv]\n",
    "  metrics['FN'] = [FN_metric, FN_P_discr, FN_P_priv]\n",
    "  metrics['FP'] = [FP_metric, FP_P_discr, FP_P_priv]\n",
    "\n",
    "  for k in metrics.keys():\n",
    "    value = standardization(rescale(metrics[k][0]))\n",
    "    discr = metrics[k][1]\n",
    "    priv = metrics[k][2]\n",
    "    metrics[k] = {'Value': value, 'Discr_group': discr, 'Priv_group': priv}\n",
    "\n",
    "  return metrics\n"
   ]
  },
  {
   "cell_type": "code",
   "execution_count": null,
   "metadata": {},
   "outputs": [],
   "source": [
    "fairness_metrics_n = fairness_metrics_division(TP_discr, TN_discr, FP_discr, FN_discr, len_discr, TP_priv, TN_priv, FP_priv, FN_priv, len_priv)\n",
    "fairness_metrics_before_n = pd.DataFrame.from_dict(fairness_metrics_n, orient='index').reset_index()\n",
    "fairness_metrics_before_n.columns = ['Metric', 'Value', 'Value_discriminated_group', 'Value_privileged_group']\n",
    "fairness_metrics_before_n.head(len(fairness_metrics_before_n))"
   ]
  },
  {
   "cell_type": "code",
   "execution_count": null,
   "metadata": {},
   "outputs": [],
   "source": [
    "fairness_metrics_pp_n = fairness_metrics_division(TP_discr_pp, TN_discr_pp, FP_discr_pp, FN_discr_pp, len_discr_pp, TP_priv_pp, TN_priv_pp, FP_priv_pp, FN_priv_pp, len_priv_pp)\n",
    "fairness_metrics_after_n = pd.DataFrame.from_dict(fairness_metrics_pp_n, orient='index').reset_index()\n",
    "fairness_metrics_after_n.columns = ['Metric', 'Value', 'Value_discriminated_group', 'Value_privileged_group']\n",
    "fairness_metrics_after_n.head(len(fairness_metrics_before_n))"
   ]
  },
  {
   "cell_type": "code",
   "execution_count": null,
   "metadata": {},
   "outputs": [],
   "source": [
    "# Combine the fairness metrics into a single DataFrame for comparison\n",
    "df_fairness_comparison_n = pd.DataFrame({\n",
    "    'Metric': fairness_metrics_before_n['Metric'],\n",
    "    'Before': fairness_metrics_before_n['Value'],\n",
    "    'After': fairness_metrics_after_n['Value']\n",
    "})\n",
    "\n",
    "\n",
    "# Plot the comparison\n",
    "plt.figure(figsize=(14, 8))\n",
    "df_fairness_comparison_melted = df_fairness_comparison_n.melt(id_vars='Metric', var_name='Stage', value_name='Value')\n",
    "sns.barplot(data=df_fairness_comparison_melted, x='Metric', y='Value', hue='Stage', palette='viridis')\n",
    "plt.title('Comparison of Fairness Metrics Before and After Applying ROC')\n",
    "plt.ylabel('Metric Value')\n",
    "plt.xticks(rotation=45, ha='right')\n",
    "plt.legend(title='Stage')\n",
    "plt.axhline(0, color='red', linestyle='--')\n",
    "plt.grid(True)\n",
    "plt.show()\n",
    "\n",
    "df_fairness_comparison_n['Delta'] = (abs(df_fairness_comparison_n['Before']) - abs(df_fairness_comparison_n['After'])).apply(lambda x: f\"{x:.3f}\")\n",
    "\n",
    "# Display the table\n",
    "df_fairness_comparison_n"
   ]
  },
  {
   "cell_type": "code",
   "execution_count": null,
   "metadata": {},
   "outputs": [],
   "source": [
    "# Combine all fairness metrics into a single DataFrame\n",
    "all_fairness_metrics = pd.DataFrame({\n",
    "    'Metric': fairness_metrics_before_n['Metric'],\n",
    "    'Delta': (abs(fairness_metrics_before_n['Value']) - abs(fairness_metrics_after_n['Value'])).apply(lambda x: f\"{x:.3f}\")\n",
    "})\n",
    "\n",
    "all_fairness_metrics"
   ]
  },
  {
   "cell_type": "code",
   "execution_count": null,
   "metadata": {},
   "outputs": [],
   "source": [
    "# Transpose the DataFrame to have metrics as columns and values in the first row\n",
    "all_fairness_metrics_transposed = all_fairness_metrics.set_index('Metric').T\n",
    "all_fairness_metrics_transposed.index = [model]\n",
    "# Display the DataFrame\n",
    "all_fairness_metrics_transposed"
   ]
  },
  {
   "cell_type": "code",
   "execution_count": null,
   "metadata": {},
   "outputs": [],
   "source": [
    "# Filter the DataFrame to include only the desired metrics\n",
    "metrics_to_plot = ['GroupFairness', 'EqualOpportunity', 'PredictiveParity']\n",
    "df_filtered = df_fairness_comparison_melted[df_fairness_comparison_melted['Metric'].isin(metrics_to_plot)]\n",
    "\n",
    "# Plot the filtered DataFrame\n",
    "plt.figure(figsize=(10, 6))\n",
    "sns.lineplot(data=df_filtered, x='Stage', y='Value', hue='Metric', marker='o')\n",
    "plt.title('Comparison of Selected Fairness Metrics Before and After Applying ROC')\n",
    "plt.ylabel('Metric Value')\n",
    "plt.xlabel('Stage')\n",
    "plt.axhline(0, color='red', linestyle='--')\n",
    "plt.grid(True)\n",
    "plt.legend(title='Metric')\n",
    "plt.show()"
   ]
  },
  {
   "cell_type": "markdown",
   "metadata": {},
   "source": [
    "## Association rules\n",
    "\n",
    "- Support: The proportion of transactions in the dataset where both antecedent and consequent are present.\n",
    "    - Measures how frequently a rule is observed in the dataset.\n",
    "- Confidence: The ratio of the number of times both antecedent and consequent occur together to the number of times the antecedent occurs.\n",
    "    - Represents how often the rule is true."
   ]
  },
  {
   "cell_type": "markdown",
   "metadata": {},
   "source": [
    "**FP-GROWTH**\n",
    "\n",
    "Compress a large database into a compact, Frequent-Pattern tree (FP-tree) structure.\n",
    "\n",
    "Datasets are encoded using a compact structure, the FP-tree.\n",
    "\n",
    "Frequent itemsets are extracted directly from the FP-tree.\n",
    "\n",
    "***GOAL*** To avoid candidate generation (computationally expensive)\n",
    "\n",
    "Main steps:\n",
    "\n",
    "    1. Construct the frequent pattern tree\n",
    "    2. For each frequent item: compute the projected FP-tree\n",
    "    3. Mine conditional FP-trees and grow frequent patterns\n",
    "    4. If the conditional FP-tree contains a single path: enumerate all the patterns\n"
   ]
  },
  {
   "cell_type": "code",
   "execution_count": null,
   "metadata": {},
   "outputs": [],
   "source": [
    "def prepare_dataset_asso_rules(dataset_to_prepare): \n",
    "    # Convert the dataset to a DataFrame\n",
    "    if not isinstance(dataset_to_prepare, pd.DataFrame):\n",
    "        pd_converted = dataset_to_prepare.convert_to_dataframe()[0]\n",
    "    else:\n",
    "        pd_converted = dataset_to_prepare\n",
    "\n",
    "    # Education number from 0 to 5 are put in '<6' and those above 13 into '>12'\n",
    "    pd_converted['education.num'] = pd_converted['education.num'].apply(lambda x: group_edu(x))\n",
    "    pd_converted['education.num'] = pd_converted['education.num'].astype(str)\n",
    "    # Group age by decade\n",
    "    pd_converted['Age (decade)'] = pd_converted['age'].apply(lambda x: x//10*10)\n",
    "    pd_converted = pd_converted.drop(columns='age')\n",
    "    # Group hours per week\n",
    "    pd_converted['hours.per.week'] = pd_converted['hours.per.week'].apply(lambda x: '>40' if x > 40 else '<=40')\n",
    "\n",
    "    # Capital gain is splitted into two columns capital.gain>0 and capital.gain=0\n",
    "    pd_converted['capital.gain>0'] = pd_converted['capital.gain'].apply(lambda x: 1 if x > 0 else 0)\n",
    "    pd_converted['capital.gain=0'] = pd_converted['capital.gain'].apply(lambda x: 1 if x == 0 else 0)\n",
    "    pd_converted.drop(columns='capital.gain', inplace=True)\n",
    "\n",
    "    # Capital loss is splitted into two columns capital.loss>0 and capital.loss=0\n",
    "    pd_converted['capital.loss>0'] = pd_converted['capital.loss'].apply(lambda x: 1 if x > 0 else 0)\n",
    "    pd_converted['capital.loss=0'] = pd_converted['capital.loss'].apply(lambda x: 1 if x == 0 else 0)\n",
    "    pd_converted.drop(columns='capital.loss', inplace=True)\n",
    "\n",
    "\n",
    "    pd_converted['male'] = pd_converted['sex'].apply(lambda x: 1 if x == 1 else 0)\n",
    "    pd_converted['female'] = pd_converted['sex'].apply(lambda x: 1 if x == 0 else 0)\n",
    "    pd_converted.drop(columns='sex', inplace=True) \n",
    "\n",
    "    # Process 'race' column\n",
    "    pd_converted['white'] = pd_converted['race'].apply(lambda x: 1 if x == 1 else 0)\n",
    "    pd_converted['n_white'] = pd_converted['race'].apply(lambda x: 1 if x == 0 else 0)\n",
    "    pd_converted.drop(columns='race', inplace=True)\n",
    "\n",
    "    # Process 'income' column\n",
    "    pd_converted['>50K'] = pd_converted['income'].apply(lambda x: 1 if x == 1 else 0)\n",
    "    pd_converted['<50K'] = pd_converted['income'].apply(lambda x: 1 if x == 0 else 0)\n",
    "    pd_converted.drop(columns='income', inplace=True)\n",
    "\n",
    "    # 1 if married, 0 otherwise\n",
    "    pd_converted['married'] = pd_converted['marital.status'].apply(lambda x: 1 if x == 1 else 0)\n",
    "    pd_converted['n_married'] = pd_converted['marital.status'].apply(lambda x: 1 if x == 0 else 0)\n",
    "    pd_converted.drop(columns='marital.status', inplace=True)\n",
    "\n",
    "    # United-States is 1 all the target_variable = 'income' = 'income'er countries are 0\n",
    "    pd_converted['UnitedStates'] = pd_converted['native.country'].apply(lambda x: 1 if x == 1 else 0)\n",
    "    pd_converted['n_UnitedStates'] = pd_converted['native.country'].apply(lambda x: 1 if x == 0 else 0)\n",
    "    pd_converted.drop(columns='native.country', inplace=True)\n",
    "    \n",
    "    pd_converted.drop(columns=['capital.loss>0', 'capital.loss=0', 'capital.gain>0', 'capital.gain=0'], inplace=True)\n",
    "    pd_converted.drop(columns=['hours.per.week'], inplace=True)\n",
    "\n",
    "    return pd_converted"
   ]
  },
  {
   "cell_type": "code",
   "execution_count": null,
   "metadata": {},
   "outputs": [],
   "source": [
    " \n",
    "def compute_income_rules(dataset, min_support, min_confidence):\n",
    "    data_asso_rules = prepare_dataset_asso_rules(dataset)\n",
    "    data_asso_rules = pd.get_dummies(data_asso_rules,columns=['education.num','Age (decade)'],drop_first=False)\n",
    "\n",
    "    # Create a binary representation of transactions\n",
    "    df_transactions = data_asso_rules.map(lambda x: True if x > 0 else False)\n",
    "\n",
    "    # Apply FP-growth algorithm to find frequent itemsets\n",
    "    frequent_itemsets = fpgrowth(df_transactions, min_support=min_support, use_colnames=True)\n",
    "\n",
    "    # Extract association rules with min confidence\n",
    "    res = association_rules(frequent_itemsets, metric=\"confidence\", min_threshold=min_confidence)\n",
    "\n",
    "    # res.to_csv('association_rules.csv')\n",
    "    # Filter rules with consequents '<=50K' and '>50K'\n",
    "    res_min50 = res[res['consequents'] == {'<50K'}]\n",
    "    res_max50 = res[res['consequents'] == {'>50K'}]\n",
    "\n",
    "    return res_min50, res_max50\n"
   ]
  },
  {
   "cell_type": "code",
   "execution_count": null,
   "metadata": {},
   "outputs": [],
   "source": [
    " \n",
    "def compute_df_transactions(dataset):\n",
    "    data_asso_rules = prepare_dataset_asso_rules(dataset)\n",
    "    data_asso_rules = pd.get_dummies(data_asso_rules,columns=['education.num','Age (decade)'],drop_first=False)\n",
    "\n",
    "    # Create a binary representation of transactions\n",
    "    df_transactions = data_asso_rules.map(lambda x: True if x > 0 else False)\n",
    "    return df_transactions\n"
   ]
  },
  {
   "cell_type": "code",
   "execution_count": null,
   "metadata": {},
   "outputs": [],
   "source": [
    "res_min50_test, res_max50_bd = compute_income_rules(dataset_orig_test, user_min_support, user_min_confidence)"
   ]
  },
  {
   "cell_type": "code",
   "execution_count": null,
   "metadata": {},
   "outputs": [],
   "source": [
    "# # quick check with apriori\n",
    "# a_rules = apriori(df_transactions, min_support = 0.2, use_colnames = True)\n",
    "# res_a = association_rules(a_rules, metric=\"confidence\", min_threshold=0.5)\n",
    "# res_a_min50 = res_a[res_a['consequents'] == {'<50K'}]\n",
    "# res_a_min50.sort_values(\"confidence\", ascending = False)\n",
    "# res_a_min50.to_csv('association_rules_ap.csv')"
   ]
  },
  {
   "cell_type": "code",
   "execution_count": null,
   "metadata": {},
   "outputs": [],
   "source": [
    "# 4 rules show up only with support > 0.1 and confidence > 0.5\n",
    "res_max50_bd.sort_values(\"confidence\", ascending=False)"
   ]
  },
  {
   "cell_type": "code",
   "execution_count": null,
   "metadata": {},
   "outputs": [],
   "source": [
    "# res_min50_test.sort_values(\"confidence\", ascending=False).to_csv('association_rules.csv')"
   ]
  },
  {
   "cell_type": "markdown",
   "metadata": {},
   "source": [
    "### Test predicions rules matching"
   ]
  },
  {
   "cell_type": "code",
   "execution_count": null,
   "metadata": {},
   "outputs": [],
   "source": [
    "df_transactions_test_pred = compute_df_transactions(dataset_orig_test)"
   ]
  },
  {
   "cell_type": "code",
   "execution_count": null,
   "metadata": {},
   "outputs": [],
   "source": [
    "results_before_roc = []\n",
    "\n",
    "# for each association rule, check how many rows of dataset_transf_test_pred met it\n",
    "for index, rule in res_min50_test.iterrows():\n",
    "    antecedents = list(rule['antecedents'])\n",
    "    matching_rows = df_transactions_test_pred.copy()\n",
    "    for antecedent in antecedents:\n",
    "        matching_rows = matching_rows[matching_rows[antecedent] == True]\n",
    "    \n",
    "    consequent = list(rule['consequents'])[0]\n",
    "    consequent_met = matching_rows[matching_rows[consequent] == True]\n",
    "    \n",
    "    total_matching = len(matching_rows)\n",
    "    total_consequent_met = len(consequent_met)\n",
    "    \n",
    "    rule_result = {\n",
    "        'Rule': f\"{set(rule['antecedents'])} -> {set(rule['consequents'])}\".replace(\"frozenset({\", \"\").replace(\"})\", \"\"),\n",
    "        'Number of conseq matching before pp': total_consequent_met,\n",
    "        'Respecting the rule before pp': f\"{round(total_consequent_met / total_matching * 100, 2)}%\" if total_matching > 0 else \"0%\",\n",
    "    }\n",
    "    \n",
    "    results_before_roc.append(rule_result)\n",
    "\n",
    "# Create a DataFrame to display the results\n",
    "results_bf_roc_df = pd.DataFrame(results_before_roc)\n",
    "display(results_bf_roc_df)"
   ]
  },
  {
   "cell_type": "code",
   "execution_count": null,
   "metadata": {},
   "outputs": [],
   "source": [
    "def extract_and_convert_support_confidence(rules):\n",
    "      \"\"\"\n",
    "      Extracts support and confidence from rules and returns a DataFrame.\n",
    "\n",
    "      Parameters:\n",
    "          rules (pd.DataFrame): A DataFrame containing 'antecedents', 'support', and 'confidence' columns.\n",
    "\n",
    "      Returns:\n",
    "          pd.DataFrame: A DataFrame with 'Antecedents', 'Support', and 'Confidence' columns.\n",
    "      \"\"\"\n",
    "      # Step 1: Extract relevant columns and round values\n",
    "      extracted_data = [\n",
    "          {\n",
    "              \"Antecedents\": rule[\"antecedents\"],\n",
    "              \"Support\": round(rule[\"support\"], 3),\n",
    "              \"Confidence\": round(rule[\"confidence\"], 3)\n",
    "          }\n",
    "          for _, rule in rules.iterrows()\n",
    "      ]\n",
    "\n",
    "      # Step 2: Convert the list of dictionaries into a DataFrame\n",
    "      df_support_confidence = pd.DataFrame(extracted_data)\n",
    "\n",
    "      return df_support_confidence\n"
   ]
  },
  {
   "cell_type": "code",
   "execution_count": null,
   "metadata": {},
   "outputs": [],
   "source": [
    "df_rulez = extract_and_convert_support_confidence(res_min50_test)\n",
    "df_rulez"
   ]
  },
  {
   "cell_type": "code",
   "execution_count": null,
   "metadata": {},
   "outputs": [],
   "source": [
    "  # Function to extract support and confidence for a given set of rules\n",
    "def extract_support_confidence(rules):\n",
    "    return {frozenset(rule['antecedents']): (round(rule['support'], 3), round(rule['confidence'], 3)) for _, rule in rules.iterrows()}\n",
    "\n",
    "support_confidence_test = extract_support_confidence(res_min50_test)\n",
    "support_confidence_test\n",
    "df_support_confidence_test = pd.DataFrame(list(support_confidence_test.items()), columns=['Antecedents', 'Support_Confidence'])\n",
    "df_support_confidence_test[['Support', 'Confidence']] = pd.DataFrame(df_support_confidence_test['Support_Confidence'].tolist(), index=df_support_confidence_test.index)\n",
    "df_support_confidence_test.drop(columns=['Support_Confidence'], inplace=True)\n",
    "df_support_confidence_test"
   ]
  },
  {
   "cell_type": "markdown",
   "metadata": {},
   "source": [
    "### Post PP rules matching"
   ]
  },
  {
   "cell_type": "code",
   "execution_count": null,
   "metadata": {},
   "outputs": [],
   "source": [
    "df_transactions_after_pp = compute_df_transactions(dataset_transf_test_pred)\n"
   ]
  },
  {
   "cell_type": "code",
   "execution_count": null,
   "metadata": {},
   "outputs": [],
   "source": [
    "results_after_roc = []\n",
    "\n",
    "# for each association rule, check how many rows of dataset_transf_test_pred met it\n",
    "for index, rule in res_min50_test.iterrows():\n",
    "    antecedents = list(rule['antecedents'])\n",
    "    matching_rows = df_transactions_after_pp.copy()\n",
    "    for antecedent in antecedents:\n",
    "        matching_rows = matching_rows[matching_rows[antecedent] == True]\n",
    "    \n",
    "    consequent = list(rule['consequents'])[0]\n",
    "    consequent_met = matching_rows[matching_rows[consequent] == True]\n",
    "    \n",
    "    total_matching = len(matching_rows)\n",
    "    total_consequent_met = len(consequent_met)\n",
    "    \n",
    "    rule_result = {\n",
    "        'Rule': f\"{set(rule['antecedents'])} -> {set(rule['consequents'])}\".replace(\"frozenset({\", \"\").replace(\"})\", \"\"),\n",
    "        'Number of conseq matching after pp': total_consequent_met,\n",
    "        'Respecting the rule after pp': f\"{round(total_consequent_met / total_matching * 100, 2)}%\" if total_matching > 0 else \"0%\",\n",
    "    }\n",
    "    \n",
    "    results_after_roc.append(rule_result)\n",
    "\n",
    "# Create a DataFrame to display the results\n",
    "results_after_roc_df = pd.DataFrame(results_after_roc)\n",
    "display(results_after_roc_df)\n",
    "\n"
   ]
  },
  {
   "cell_type": "markdown",
   "metadata": {},
   "source": [
    "Comparison of  association rules in the predicted test datatset before/after post-processing"
   ]
  },
  {
   "cell_type": "code",
   "execution_count": null,
   "metadata": {},
   "outputs": [],
   "source": [
    "results_df = results_bf_roc_df.copy()\n",
    "results_df['Number of conseq matching after pp'] = results_after_roc_df['Number of conseq matching after pp']\n",
    "results_df['Respecting the rule after pp'] = results_after_roc_df['Respecting the rule after pp']\n",
    "results_df"
   ]
  },
  {
   "cell_type": "code",
   "execution_count": null,
   "metadata": {},
   "outputs": [],
   "source": [
    "consistency_df = results_df.copy()\n",
    "consistency_df = consistency_df[['Rule','Respecting the rule before pp', 'Respecting the rule after pp']]\n",
    "consistency_df"
   ]
  },
  {
   "cell_type": "code",
   "execution_count": null,
   "metadata": {},
   "outputs": [],
   "source": [
    "# Calculate association rules for the transformed test dataset\n",
    "res_min50_transf, res_max50_transf = compute_income_rules(dataset_transf_test_pred, min_support=user_min_support, min_confidence=user_min_confidence)\n",
    "res_min50_test_pred, res_max50_test_pred = compute_income_rules(dataset_orig_test_pred, min_support=user_min_support, min_confidence=user_min_confidence)\n",
    "\n",
    "# Function to extract support and confidence for a given set of rules\n",
    "def extract_support_confidence(rules):\n",
    "    return {frozenset(rule['antecedents']): (round(rule['support'], 3), round(rule['confidence'], 3)) for _, rule in rules.iterrows()}\n",
    "\n",
    "# Extract support and confidence for each set of rules\n",
    "support_confidence_test = extract_support_confidence(res_min50_test)\n",
    "support_confidence_test_pred = extract_support_confidence(res_min50_test_pred)\n",
    "support_confidence_test_pred_pp = extract_support_confidence(res_min50_transf)\n",
    "\n",
    "# Combine all rules\n",
    "all_rules = set(support_confidence_test.keys()).union(support_confidence_test_pred.keys()).union(support_confidence_test_pred_pp.keys())"
   ]
  },
  {
   "cell_type": "code",
   "execution_count": null,
   "metadata": {},
   "outputs": [],
   "source": [
    "# Initial MultiIndex\n",
    "multiIndex_consistency = pd.MultiIndex.from_tuples(\n",
    "    [('Origin','Rule'),('Origin', 'Support'), ('Origin', 'Confidence')],\n",
    "    names=['Model', 'Metric']\n",
    ")\n",
    "df_consistency = pd.DataFrame(columns=multiIndex_consistency)\n"
   ]
  },
  {
   "cell_type": "code",
   "execution_count": null,
   "metadata": {},
   "outputs": [],
   "source": [
    "support_confidence_test = extract_and_convert_support_confidence(res_min50_test)\n",
    "support_confidence_test"
   ]
  },
  {
   "cell_type": "code",
   "execution_count": null,
   "metadata": {},
   "outputs": [],
   "source": [
    "support_confidence_test_pred_pp = extract_and_convert_support_confidence(res_min50_transf)\n",
    "support_confidence_test_pred_pp"
   ]
  },
  {
   "cell_type": "code",
   "execution_count": null,
   "metadata": {},
   "outputs": [],
   "source": [
    "# Reindex support_confidence_test_pred_pp to match the index of df_consistency\n",
    "support_confidence_test_pred_pp_reindexed = support_confidence_test_pred_pp.reindex(df_consistency.index)\n",
    "\n",
    "df_consistency[(model, 'Support')] = support_confidence_test_pred_pp_reindexed['Support'].tolist()\n",
    "df_consistency[(model, 'Confidence')] = support_confidence_test_pred_pp_reindexed['Confidence'].tolist()\n",
    "    "
   ]
  },
  {
   "cell_type": "code",
   "execution_count": null,
   "metadata": {},
   "outputs": [],
   "source": [
    "# Calculate consistency\n",
    "\n",
    "# Extract all tuples where the post-processing changed the output\n",
    "changed_tuples = dataset_orig_test_pred.labels != dataset_transf_test_pred.labels\n",
    "changed_df = dataset_transf_test_pred.convert_to_dataframe()[0][changed_tuples]\n",
    "consistency_transactions= compute_df_transactions(changed_df)\n",
    "# checking if the label-changed tuples are respecting the association rules\n",
    "consistency_list = []\n",
    "total_changed_tuples = consistency_transactions.shape[0]\n",
    "\n",
    "# for each association rule, check how many rows of dataset_transf_test_pred met it\n",
    "for index, rule in res_min50_test.iterrows():\n",
    "    antecedents = list(rule['antecedents'])\n",
    "    matching_rows = consistency_transactions.copy()\n",
    "    for antecedent in antecedents:\n",
    "        matching_rows = matching_rows[matching_rows[antecedent] == True]\n",
    "    \n",
    "    consequent = list(rule['consequents'])[0]\n",
    "    consequent_met = matching_rows[matching_rows[consequent] == True]\n",
    "    \n",
    "    total_matching = len(matching_rows)\n",
    "    total_consequent_met = len(consequent_met)\n",
    "    \n",
    "    rule_result = {\n",
    "        f\"{round(total_consequent_met / total_matching * 100, 2)}%\" if total_matching > 0 else \"0%\"\n",
    "    }\n",
    "    consistency_list.append(rule_result)\n",
    "    \n"
   ]
  },
  {
   "cell_type": "code",
   "execution_count": null,
   "metadata": {},
   "outputs": [],
   "source": [
    "df_consistency[(model, 'Consistency')] = consistency_list"
   ]
  },
  {
   "cell_type": "code",
   "execution_count": null,
   "metadata": {},
   "outputs": [],
   "source": [
    "data = []\n",
    "for rule in support_confidence_test:\n",
    "    rule_str = ', '.join(rule)\n",
    "    test_support_confidence = support_confidence_test.get(rule, (None, None))\n",
    "    \n",
    "    test_pred_pp_support_confidence = support_confidence_test_pred_pp.get(rule, (None, None))\n",
    "    \n",
    "    data.append([\n",
    "        rule_str,\n",
    "        test_support_confidence[0], test_support_confidence[1],\n",
    "        test_pred_pp_support_confidence[0], test_pred_pp_support_confidence[1]\n",
    "    ])"
   ]
  },
  {
   "cell_type": "code",
   "execution_count": null,
   "metadata": {},
   "outputs": [],
   "source": [
    "## model            Origin                                   M1                         M2\n",
    "## metric  Support Confidence Consistency   Support Confidence Consistency  Support Confidence Consistency\n",
    "\n",
    "# Combine all rules data into a list\n",
    "data = []\n",
    "for rule in all_rules:\n",
    "    rule_str = ', '.join(rule)\n",
    "    test_support_confidence = support_confidence_test.get(rule, (None, None))\n",
    "    \n",
    "    test_pred_pp_support_confidence = support_confidence_test_pred_pp.get(rule, (None, None))\n",
    "    \n",
    "    data.append([\n",
    "        rule_str,\n",
    "        test_support_confidence[0], test_support_confidence[1],\n",
    "        test_pred_pp_support_confidence[0], test_pred_pp_support_confidence[1]\n",
    "    ])\n",
    "\n",
    "display(data)\n",
    "\n",
    "# Define columns for the DataFrame\n",
    "columns = ['Rule', 'Test Support', 'Test Confidence', 'Test Pred PP Support', 'Test Pred PP Confidence']\n",
    "\n",
    "# Create DataFrame\n",
    "df_combined = pd.DataFrame(data, columns=columns)\n",
    "\n",
    "# Create a MultiIndex for the columns with two levels: Dataset and Metric\n",
    "df_combined.set_index('Rule', inplace=True)\n",
    "\n",
    "# Create tuples for the MultiIndex (Dataset, Metric)\n",
    "multi_columns = pd.MultiIndex.from_tuples([\n",
    "    ('Test', 'Support'), ('Test', 'Confidence'),\n",
    "    ('Test Pred PP', 'Support'), ('Test Pred PP', 'Confidence')],\n",
    "    names=['Dataset', 'Metric']\n",
    ")\n",
    "\n",
    "# Apply the MultiIndex to the columns\n",
    "df_combined.columns = multi_columns\n",
    "\n",
    "# Display the DataFrame\n",
    "df_combined\n"
   ]
  },
  {
   "cell_type": "code",
   "execution_count": null,
   "metadata": {},
   "outputs": [],
   "source": [
    "# Combine all rules data into a list\n",
    "data = []\n",
    "for rule in all_rules:\n",
    "    rule_str = ', '.join(rule)\n",
    "    test_support_confidence = support_confidence_test.get(rule, (None, None))\n",
    "    test_pred_support_confidence = support_confidence_test_pred.get(rule, (None, None))\n",
    "    test_pred_pp_support_confidence = support_confidence_test_pred_pp.get(rule, (None, None))\n",
    "    \n",
    "    data.append([\n",
    "        rule_str,\n",
    "        test_support_confidence[0], test_support_confidence[1],\n",
    "        test_pred_support_confidence[0], test_pred_support_confidence[1],\n",
    "        test_pred_pp_support_confidence[0], test_pred_pp_support_confidence[1]\n",
    "    ])\n",
    "\n",
    "# Define columns for the DataFrame\n",
    "columns = ['Rule', 'Test Support', 'Test Confidence', 'Test Pred Support', 'Test Pred Confidence', 'Test Pred PP Support', 'Test Pred PP Confidence']\n",
    "\n",
    "# Create DataFrame\n",
    "df_combined = pd.DataFrame(data, columns=columns)\n",
    "\n",
    "# Create a MultiIndex for the columns with two levels: Dataset and Metric\n",
    "df_combined.set_index('Rule', inplace=True)\n",
    "\n",
    "# Create tuples for the MultiIndex (Dataset, Metric)\n",
    "multi_columns = pd.MultiIndex.from_tuples([\n",
    "    ('Test', 'Support'), ('Test', 'Confidence'), \n",
    "    ('Test Pred', 'Support'), ('Test Pred', 'Confidence'), \n",
    "    ('Test Pred PP', 'Support'), ('Test Pred PP', 'Confidence')],\n",
    "    names=['Dataset', 'Metric']\n",
    ")\n",
    "\n",
    "# Apply the MultiIndex to the columns\n",
    "df_combined.columns = multi_columns\n",
    "\n",
    "# Display the DataFrame\n",
    "df_combined"
   ]
  },
  {
   "cell_type": "code",
   "execution_count": null,
   "metadata": {},
   "outputs": [],
   "source": [
    "# Calculate association rules for the transformed test dataset\n",
    "res_min50_transf, res_max50_transf = compute_income_rules(dataset_transf_test_pred, min_support=user_min_support, min_confidence=user_min_confidence)\n",
    "res_min50_test_pred, res_max50_test_pred = compute_income_rules(dataset_orig_test_pred, min_support=user_min_support, min_confidence=user_min_confidence)\n",
    "\n",
    "\n",
    "print(\"Comparing between test and test_pred\\n\")\n",
    "\n",
    "# Function to calculate and return the number of rules kept, not kept, and newly introduced\n",
    "def compare_rules(res_orig, res_transf, consequent):\n",
    "    rules_kept = set(res_orig['antecedents']).intersection(set(res_transf['antecedents']))\n",
    "    rules_not_kept = set(res_orig['antecedents']).difference(set(res_transf['antecedents']))\n",
    "    new_rules = set(res_transf['antecedents']).difference(set(res_orig['antecedents']))\n",
    "\n",
    "\n",
    "    print(f\"Number of association rules with consequents '{consequent}' kept: {len(rules_kept)}\")\n",
    "    print(f\"Number of association rules with consequents '{consequent}' not kept: {len(rules_not_kept)}\")\n",
    "    print(f\"Number of new association rules with consequents '{consequent}': {len(new_rules)}\")\n",
    "    \n",
    "    df_rules_kept = res_orig[res_orig['antecedents'].isin(rules_kept)]\n",
    "    df_rules_not_kept = res_orig[res_orig['antecedents'].isin(rules_not_kept)]\n",
    "    df_new_rules = res_transf[res_transf['antecedents'].isin(new_rules)]\n",
    "\n",
    "    return df_rules_kept, df_rules_not_kept, df_new_rules\n",
    "\n",
    "# Compare rules for '<=50K'\n",
    "df_rules_kept, df_rules_not_kept, df_new_rules = compare_rules(res_min50_test, res_min50_test_pred, '<=50K')\n",
    "# Display the dataframes\n",
    "print(\"\\nRules Kept:\")\n",
    "display(df_rules_kept[['antecedents', 'consequents', 'support', 'confidence']].sort_values(\"confidence\", ascending=False))\n",
    "\n",
    "print(\"\\nRules Not Kept:\")\n",
    "display(df_rules_not_kept[['antecedents', 'consequents', 'support', 'confidence']].sort_values(\"confidence\", ascending=False))\n",
    "\n",
    "print(\"\\nNew Rules:\")\n",
    "display(df_new_rules[['antecedents', 'consequents', 'support', 'confidence']].sort_values(\"confidence\", ascending=False))\n"
   ]
  },
  {
   "cell_type": "code",
   "execution_count": null,
   "metadata": {},
   "outputs": [],
   "source": [
    "print(\"Comparing between test and test_transf\\n\")\n",
    "\n",
    "# Function to calculate and return the number of rules kept, not kept, and newly introduced\n",
    "def compare_rules(res_orig, res_transf, consequent):\n",
    "    rules_kept = set(res_orig['antecedents']).intersection(set(res_transf['antecedents']))\n",
    "    rules_not_kept = set(res_orig['antecedents']).difference(set(res_transf['antecedents']))\n",
    "    new_rules = set(res_transf['antecedents']).difference(set(res_orig['antecedents']))\n",
    "\n",
    "\n",
    "    print(f\"Number of association rules with consequents '{consequent}' kept: {len(rules_kept)}\")\n",
    "    print(f\"Number of association rules with consequents '{consequent}' not kept: {len(rules_not_kept)}\")\n",
    "    print(f\"Number of new association rules with consequents '{consequent}': {len(new_rules)}\")\n",
    "    \n",
    "    df_rules_kept = res_orig[res_orig['antecedents'].isin(rules_kept)]\n",
    "    df_rules_not_kept = res_orig[res_orig['antecedents'].isin(rules_not_kept)]\n",
    "    df_new_rules = res_transf[res_transf['antecedents'].isin(new_rules)]\n",
    "\n",
    "    return df_rules_kept, df_rules_not_kept, df_new_rules\n",
    "\n",
    "# Compare rules for '<=50K'\n",
    "df_rules_kept, df_rules_not_kept, df_new_rules = compare_rules(res_min50_test_pred, res_min50_transf, '<=50K')\n",
    "# Display the dataframes\n",
    "print(\"\\nRules Kept:\")\n",
    "display(df_rules_kept[['antecedents', 'consequents', 'support', 'confidence']].sort_values(\"confidence\", ascending=False))\n",
    "\n",
    "print(\"\\nRules Not Kept:\")\n",
    "display(df_rules_not_kept[['antecedents', 'consequents', 'support', 'confidence']].sort_values(\"confidence\", ascending=False))\n",
    "\n",
    "print(\"\\nNew Rules:\")\n",
    "display(df_new_rules[['antecedents', 'consequents', 'support', 'confidence']].sort_values(\"confidence\", ascending=False))\n"
   ]
  },
  {
   "cell_type": "markdown",
   "metadata": {},
   "source": [
    "## Consistency\n",
    "considering the modified output tuples, how many violetes the association rules."
   ]
  },
  {
   "cell_type": "code",
   "execution_count": null,
   "metadata": {},
   "outputs": [],
   "source": [
    "# Extract all tuples where the post-processing changed the output\n",
    "changed_tuples = dataset_orig_test_pred.labels != dataset_transf_test_pred.labels\n",
    "changed_df = dataset_transf_test_pred.convert_to_dataframe()[0][changed_tuples]\n",
    "consistency_transactions= compute_df_transactions(changed_df)\n"
   ]
  },
  {
   "cell_type": "code",
   "execution_count": null,
   "metadata": {},
   "outputs": [],
   "source": [
    "# checking if the label-changed tuples are respecting the association rules\n",
    "consistency_df = []\n",
    "total_changed_tuples = consistency_transactions.shape[0]\n",
    "non_respect = 0\n",
    "# for each association rule, check how many rows of dataset_transf_test_pred met it\n",
    "for index, rule in res_min50_test.iterrows():\n",
    "    antecedents = list(rule['antecedents'])\n",
    "    matching_rows = consistency_transactions.copy()\n",
    "    for antecedent in antecedents:\n",
    "        matching_rows = matching_rows[matching_rows[antecedent] == True]\n",
    "    \n",
    "    consequent = list(rule['consequents'])[0]\n",
    "    consequent_met = matching_rows[matching_rows[consequent] == True]\n",
    "    \n",
    "    total_matching = len(matching_rows)\n",
    "    total_consequent_met = len(consequent_met)\n",
    "    \n",
    "    rule_result = {\n",
    "        'Rule': f\"{set(rule['antecedents'])} -> {set(rule['consequents'])}\".replace(\"frozenset({\", \"\").replace(\"})\", \"\"),\n",
    "        'Number of conseq matching after pp': total_consequent_met,\n",
    "        'Respecting the rule after pp': f\"{round(total_consequent_met / total_matching * 100, 2)}%\" if total_matching > 0 else \"0%\",   \n",
    "    }\n",
    "    consistency_df.append(rule_result)\n",
    "\n",
    "\n",
    "# Create a DataFrame to display the results\n",
    "results_after_roc_df = pd.DataFrame(consistency_df)\n",
    "display(results_after_roc_df)\n"
   ]
  },
  {
   "cell_type": "code",
   "execution_count": null,
   "metadata": {},
   "outputs": [],
   "source": [
    "support_confidence_test = extract_support_confidence(res_min50_transf)\n",
    "df_support_confidence_test = pd.DataFrame(list(support_confidence_test.items()), columns=['Antecedents', 'Support_Confidence'])\n",
    "df_support_confidence_test[['Support', 'Confidence']] = pd.DataFrame(df_support_confidence_test['Support_Confidence'].tolist(), index=df_support_confidence_test.index)\n",
    "df_support_confidence_test.drop(columns=['Support_Confidence'], inplace=True)\n",
    "df_support_confidence_test\n"
   ]
  },
  {
   "cell_type": "code",
   "execution_count": null,
   "metadata": {},
   "outputs": [],
   "source": [
    "# Unire i due DataFrame sulla colonna 'Rule'\n",
    "merged_df = results_after_roc_df.copy()\n",
    "\n",
    "# Copia delle colonne 'Support' e 'Confidence' da df_support_confidence_test a merged_df\n",
    "merged_df['Support'] = df_support_confidence_test['Support']\n",
    "merged_df['Confidence'] = df_support_confidence_test['Confidence']\n",
    "\n",
    "# Visualizzare il DataFrame risultante\n",
    "display(merged_df)"
   ]
  },
  {
   "cell_type": "code",
   "execution_count": null,
   "metadata": {},
   "outputs": [],
   "source": [
    "# Extract all tuples where the post-processing changed the output\n",
    "changed_tuples = dataset_orig_test_pred.labels != dataset_transf_test_pred.labels\n",
    "changed_df = dataset_transf_test_pred.convert_to_dataframe()[0][changed_tuples]\n",
    "changed_df"
   ]
  },
  {
   "cell_type": "code",
   "execution_count": null,
   "metadata": {},
   "outputs": [],
   "source": [
    "changed_transactions= compute_df_transactions(changed_df)\n",
    "changed_transactions"
   ]
  },
  {
   "cell_type": "code",
   "execution_count": null,
   "metadata": {},
   "outputs": [],
   "source": [
    "def satisfies_rule(row, antecedents, consequents):\n",
    "    antecedent_check = all(row[item] for item in antecedents)\n",
    "    consequent_check = all(row[item] for item in consequents)\n",
    "    return not antecedent_check or ( antecedent_check and consequent_check)\n",
    "\n",
    "# Step 3: Check rows in the modified DB that violate any of the rules\n",
    "rows_not_respecting_rules = 0\n",
    "\n",
    "def violates_any_rule(row, rules):\n",
    "    for _, rule in rules.iterrows():\n",
    "        antecedents = list(rule['antecedents'])\n",
    "        consequents = list(rule['consequents'])\n",
    "        if not satisfies_rule(row, antecedents, consequents):\n",
    "            return True  # Row violates this rule\n",
    "    return False  # Row satisfies all rules\n",
    "\n",
    "# Check for rows violating any rule in the modified DB\n",
    "\n",
    "    \n",
    "rows_violating_rules = changed_transactions.apply(lambda row: violates_any_rule(row, res_min50_test), axis=1)\n",
    "rows_not_respecting_rules = rows_violating_rules.sum()\n",
    "\n",
    "# Calculate the delta\n",
    "total_rows = len(df_transactions_after_pp)\n",
    "delta = 1 - (rows_not_respecting_rules / total_rows)\n",
    "\n",
    "# Display results\n",
    "print(f\"Total rows in modified DB: {total_rows}\")\n",
    "print(f\"Rows that no longer respect rules: {rows_not_respecting_rules}\")\n",
    "print(f\"Delta: {delta:.4f}\")\n"
   ]
  }
 ],
 "metadata": {
  "kernelspec": {
   "display_name": "pp_env",
   "language": "python",
   "name": "python3"
  },
  "language_info": {
   "codemirror_mode": {
    "name": "ipython",
    "version": 3
   },
   "file_extension": ".py",
   "mimetype": "text/x-python",
   "name": "python",
   "nbconvert_exporter": "python",
   "pygments_lexer": "ipython3",
   "version": "3.12.3"
  }
 },
 "nbformat": 4,
 "nbformat_minor": 2
}
